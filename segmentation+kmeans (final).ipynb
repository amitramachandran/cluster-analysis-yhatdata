{
 "cells": [
  {
   "cell_type": "code",
   "execution_count": 2,
   "metadata": {
    "collapsed": true
   },
   "outputs": [],
   "source": [
    "import numpy as np \n",
    "import pandas as pd\n",
    "import matplotlib.pyplot as plt\n",
    "import seaborn as sns\n",
    "%matplotlib inline\n",
    "pd.options.display.max_rows = 100"
   ]
  },
  {
   "cell_type": "code",
   "execution_count": 3,
   "metadata": {
    "collapsed": true
   },
   "outputs": [],
   "source": [
    "# reading the train and test csv files "
   ]
  },
  {
   "cell_type": "code",
   "execution_count": 4,
   "metadata": {
    "collapsed": true
   },
   "outputs": [],
   "source": [
    "raw_data = pd.read_csv('Wholesale customers data.csv')"
   ]
  },
  {
   "cell_type": "code",
   "execution_count": 5,
   "metadata": {
    "collapsed": true
   },
   "outputs": [],
   "source": [
    "# some goofing around the raw data "
   ]
  },
  {
   "cell_type": "code",
   "execution_count": 6,
   "metadata": {},
   "outputs": [
    {
     "data": {
      "text/html": [
       "<div>\n",
       "<style>\n",
       "    .dataframe thead tr:only-child th {\n",
       "        text-align: right;\n",
       "    }\n",
       "\n",
       "    .dataframe thead th {\n",
       "        text-align: left;\n",
       "    }\n",
       "\n",
       "    .dataframe tbody tr th {\n",
       "        vertical-align: top;\n",
       "    }\n",
       "</style>\n",
       "<table border=\"1\" class=\"dataframe\">\n",
       "  <thead>\n",
       "    <tr style=\"text-align: right;\">\n",
       "      <th></th>\n",
       "      <th>Channel</th>\n",
       "      <th>Region</th>\n",
       "      <th>Fresh</th>\n",
       "      <th>Milk</th>\n",
       "      <th>Grocery</th>\n",
       "      <th>Frozen</th>\n",
       "      <th>Detergents_Paper</th>\n",
       "      <th>Delicassen</th>\n",
       "    </tr>\n",
       "  </thead>\n",
       "  <tbody>\n",
       "    <tr>\n",
       "      <th>0</th>\n",
       "      <td>2</td>\n",
       "      <td>3</td>\n",
       "      <td>12669</td>\n",
       "      <td>9656</td>\n",
       "      <td>7561</td>\n",
       "      <td>214</td>\n",
       "      <td>2674</td>\n",
       "      <td>1338</td>\n",
       "    </tr>\n",
       "    <tr>\n",
       "      <th>1</th>\n",
       "      <td>2</td>\n",
       "      <td>3</td>\n",
       "      <td>7057</td>\n",
       "      <td>9810</td>\n",
       "      <td>9568</td>\n",
       "      <td>1762</td>\n",
       "      <td>3293</td>\n",
       "      <td>1776</td>\n",
       "    </tr>\n",
       "    <tr>\n",
       "      <th>2</th>\n",
       "      <td>2</td>\n",
       "      <td>3</td>\n",
       "      <td>6353</td>\n",
       "      <td>8808</td>\n",
       "      <td>7684</td>\n",
       "      <td>2405</td>\n",
       "      <td>3516</td>\n",
       "      <td>7844</td>\n",
       "    </tr>\n",
       "    <tr>\n",
       "      <th>3</th>\n",
       "      <td>1</td>\n",
       "      <td>3</td>\n",
       "      <td>13265</td>\n",
       "      <td>1196</td>\n",
       "      <td>4221</td>\n",
       "      <td>6404</td>\n",
       "      <td>507</td>\n",
       "      <td>1788</td>\n",
       "    </tr>\n",
       "    <tr>\n",
       "      <th>4</th>\n",
       "      <td>2</td>\n",
       "      <td>3</td>\n",
       "      <td>22615</td>\n",
       "      <td>5410</td>\n",
       "      <td>7198</td>\n",
       "      <td>3915</td>\n",
       "      <td>1777</td>\n",
       "      <td>5185</td>\n",
       "    </tr>\n",
       "  </tbody>\n",
       "</table>\n",
       "</div>"
      ],
      "text/plain": [
       "   Channel  Region  Fresh  Milk  Grocery  Frozen  Detergents_Paper  Delicassen\n",
       "0        2       3  12669  9656     7561     214              2674        1338\n",
       "1        2       3   7057  9810     9568    1762              3293        1776\n",
       "2        2       3   6353  8808     7684    2405              3516        7844\n",
       "3        1       3  13265  1196     4221    6404               507        1788\n",
       "4        2       3  22615  5410     7198    3915              1777        5185"
      ]
     },
     "execution_count": 6,
     "metadata": {},
     "output_type": "execute_result"
    }
   ],
   "source": [
    "raw_data.head()"
   ]
  },
  {
   "cell_type": "code",
   "execution_count": 7,
   "metadata": {},
   "outputs": [
    {
     "name": "stdout",
     "output_type": "stream",
     "text": [
      "<class 'pandas.core.frame.DataFrame'>\n",
      "RangeIndex: 440 entries, 0 to 439\n",
      "Data columns (total 8 columns):\n",
      "Channel             440 non-null int64\n",
      "Region              440 non-null int64\n",
      "Fresh               440 non-null int64\n",
      "Milk                440 non-null int64\n",
      "Grocery             440 non-null int64\n",
      "Frozen              440 non-null int64\n",
      "Detergents_Paper    440 non-null int64\n",
      "Delicassen          440 non-null int64\n",
      "dtypes: int64(8)\n",
      "memory usage: 27.6 KB\n"
     ]
    }
   ],
   "source": [
    "raw_data.info()"
   ]
  },
  {
   "cell_type": "code",
   "execution_count": 54,
   "metadata": {},
   "outputs": [
    {
     "data": {
      "text/html": [
       "<div>\n",
       "<style>\n",
       "    .dataframe thead tr:only-child th {\n",
       "        text-align: right;\n",
       "    }\n",
       "\n",
       "    .dataframe thead th {\n",
       "        text-align: left;\n",
       "    }\n",
       "\n",
       "    .dataframe tbody tr th {\n",
       "        vertical-align: top;\n",
       "    }\n",
       "</style>\n",
       "<table border=\"1\" class=\"dataframe\">\n",
       "  <thead>\n",
       "    <tr style=\"text-align: right;\">\n",
       "      <th></th>\n",
       "      <th>Channel</th>\n",
       "      <th>Region</th>\n",
       "      <th>Fresh</th>\n",
       "      <th>Milk</th>\n",
       "      <th>Grocery</th>\n",
       "      <th>Frozen</th>\n",
       "      <th>Detergents_Paper</th>\n",
       "      <th>Delicassen</th>\n",
       "    </tr>\n",
       "  </thead>\n",
       "  <tbody>\n",
       "    <tr>\n",
       "      <th>count</th>\n",
       "      <td>440.000000</td>\n",
       "      <td>440.000000</td>\n",
       "      <td>440.000000</td>\n",
       "      <td>440.000000</td>\n",
       "      <td>440.000000</td>\n",
       "      <td>440.000000</td>\n",
       "      <td>440.000000</td>\n",
       "      <td>440.000000</td>\n",
       "    </tr>\n",
       "    <tr>\n",
       "      <th>mean</th>\n",
       "      <td>1.322727</td>\n",
       "      <td>2.543182</td>\n",
       "      <td>12000.297727</td>\n",
       "      <td>5796.265909</td>\n",
       "      <td>7951.277273</td>\n",
       "      <td>3071.931818</td>\n",
       "      <td>2881.493182</td>\n",
       "      <td>1524.870455</td>\n",
       "    </tr>\n",
       "    <tr>\n",
       "      <th>std</th>\n",
       "      <td>0.468052</td>\n",
       "      <td>0.774272</td>\n",
       "      <td>12647.328865</td>\n",
       "      <td>7380.377175</td>\n",
       "      <td>9503.162829</td>\n",
       "      <td>4854.673333</td>\n",
       "      <td>4767.854448</td>\n",
       "      <td>2820.105937</td>\n",
       "    </tr>\n",
       "    <tr>\n",
       "      <th>min</th>\n",
       "      <td>1.000000</td>\n",
       "      <td>1.000000</td>\n",
       "      <td>3.000000</td>\n",
       "      <td>55.000000</td>\n",
       "      <td>3.000000</td>\n",
       "      <td>25.000000</td>\n",
       "      <td>3.000000</td>\n",
       "      <td>3.000000</td>\n",
       "    </tr>\n",
       "    <tr>\n",
       "      <th>25%</th>\n",
       "      <td>1.000000</td>\n",
       "      <td>2.000000</td>\n",
       "      <td>3127.750000</td>\n",
       "      <td>1533.000000</td>\n",
       "      <td>2153.000000</td>\n",
       "      <td>742.250000</td>\n",
       "      <td>256.750000</td>\n",
       "      <td>408.250000</td>\n",
       "    </tr>\n",
       "    <tr>\n",
       "      <th>50%</th>\n",
       "      <td>1.000000</td>\n",
       "      <td>3.000000</td>\n",
       "      <td>8504.000000</td>\n",
       "      <td>3627.000000</td>\n",
       "      <td>4755.500000</td>\n",
       "      <td>1526.000000</td>\n",
       "      <td>816.500000</td>\n",
       "      <td>965.500000</td>\n",
       "    </tr>\n",
       "    <tr>\n",
       "      <th>75%</th>\n",
       "      <td>2.000000</td>\n",
       "      <td>3.000000</td>\n",
       "      <td>16933.750000</td>\n",
       "      <td>7190.250000</td>\n",
       "      <td>10655.750000</td>\n",
       "      <td>3554.250000</td>\n",
       "      <td>3922.000000</td>\n",
       "      <td>1820.250000</td>\n",
       "    </tr>\n",
       "    <tr>\n",
       "      <th>max</th>\n",
       "      <td>2.000000</td>\n",
       "      <td>3.000000</td>\n",
       "      <td>112151.000000</td>\n",
       "      <td>73498.000000</td>\n",
       "      <td>92780.000000</td>\n",
       "      <td>60869.000000</td>\n",
       "      <td>40827.000000</td>\n",
       "      <td>47943.000000</td>\n",
       "    </tr>\n",
       "  </tbody>\n",
       "</table>\n",
       "</div>"
      ],
      "text/plain": [
       "          Channel      Region          Fresh          Milk       Grocery  \\\n",
       "count  440.000000  440.000000     440.000000    440.000000    440.000000   \n",
       "mean     1.322727    2.543182   12000.297727   5796.265909   7951.277273   \n",
       "std      0.468052    0.774272   12647.328865   7380.377175   9503.162829   \n",
       "min      1.000000    1.000000       3.000000     55.000000      3.000000   \n",
       "25%      1.000000    2.000000    3127.750000   1533.000000   2153.000000   \n",
       "50%      1.000000    3.000000    8504.000000   3627.000000   4755.500000   \n",
       "75%      2.000000    3.000000   16933.750000   7190.250000  10655.750000   \n",
       "max      2.000000    3.000000  112151.000000  73498.000000  92780.000000   \n",
       "\n",
       "             Frozen  Detergents_Paper    Delicassen  \n",
       "count    440.000000        440.000000    440.000000  \n",
       "mean    3071.931818       2881.493182   1524.870455  \n",
       "std     4854.673333       4767.854448   2820.105937  \n",
       "min       25.000000          3.000000      3.000000  \n",
       "25%      742.250000        256.750000    408.250000  \n",
       "50%     1526.000000        816.500000    965.500000  \n",
       "75%     3554.250000       3922.000000   1820.250000  \n",
       "max    60869.000000      40827.000000  47943.000000  "
      ]
     },
     "execution_count": 54,
     "metadata": {},
     "output_type": "execute_result"
    }
   ],
   "source": [
    "raw_data.describe()"
   ]
  },
  {
   "cell_type": "code",
   "execution_count": 21,
   "metadata": {},
   "outputs": [
    {
     "data": {
      "text/plain": [
       "3"
      ]
     },
     "execution_count": 21,
     "metadata": {},
     "output_type": "execute_result"
    }
   ],
   "source": [
    "raw_data['Region'].nunique()    # target is to classify according to these data "
   ]
  },
  {
   "cell_type": "code",
   "execution_count": 22,
   "metadata": {
    "collapsed": true
   },
   "outputs": [],
   "source": [
    "#visualizations "
   ]
  },
  {
   "cell_type": "code",
   "execution_count": 31,
   "metadata": {},
   "outputs": [
    {
     "data": {
      "text/plain": [
       "<matplotlib.axes._subplots.AxesSubplot at 0x1b3ca3c8278>"
      ]
     },
     "execution_count": 31,
     "metadata": {},
     "output_type": "execute_result"
    },
    {
     "data": {
      "image/png": "[encoded data removed]",
      "text/plain": [
       "<matplotlib.figure.Figure at 0x1b3c9f02518>"
      ]
     },
     "metadata": {},
     "output_type": "display_data"
    }
   ],
   "source": [
    "sns.barplot('Channel','Delicassen',data=raw_data)"
   ]
  },
  {
   "cell_type": "code",
   "execution_count": null,
   "metadata": {
    "collapsed": true
   },
   "outputs": [],
   "source": [
    "# some insights wrt channel \n",
    "#---> fresh and frozen are more in channel 1 \n",
    "#----> milk , grocery , detergent is more in channel 2 \n",
    "# ---> delicassen is utilized approx equally by both channels "
   ]
  },
  {
   "cell_type": "code",
   "execution_count": 46,
   "metadata": {},
   "outputs": [
    {
     "data": {
      "text/plain": [
       "<matplotlib.axes._subplots.AxesSubplot at 0x1b3cc06c9e8>"
      ]
     },
     "execution_count": 46,
     "metadata": {},
     "output_type": "execute_result"
    },
    {
     "data": {
      "image/png": "[encoded data removed]",
      "text/plain": [
       "<matplotlib.figure.Figure at 0x1b3cc017390>"
      ]
     },
     "metadata": {},
     "output_type": "display_data"
    }
   ],
   "source": [
    "sns.barplot('Region','Detergents_Paper',data=raw_data)"
   ]
  },
  {
   "cell_type": "code",
   "execution_count": null,
   "metadata": {
    "collapsed": true
   },
   "outputs": [],
   "source": [
    "# some insights wrt region\n",
    "#---> fresh,milk,delicassen are more in region 3 \n",
    "#---->grocery , detergent is more in region 2 "
   ]
  },
  {
   "cell_type": "code",
   "execution_count": 53,
   "metadata": {},
   "outputs": [
    {
     "data": {
      "text/plain": [
       "<seaborn.axisgrid.PairGrid at 0x1b3cfa73208>"
      ]
     },
     "execution_count": 53,
     "metadata": {},
     "output_type": "execute_result"
    },
    {
     "data": {
      "image/png": "[encoded data removed]",
      "text/plain": [
       "<matplotlib.figure.Figure at 0x1b3cdca5d30>"
      ]
     },
     "metadata": {},
     "output_type": "display_data"
    }
   ],
   "source": [
    "sns.pairplot(raw_data,diag_kind='kde')"
   ]
  },
  {
   "cell_type": "code",
   "execution_count": 52,
   "metadata": {},
   "outputs": [
    {
     "data": {
      "text/plain": [
       "<matplotlib.collections.PathCollection at 0x1b3cfea13c8>"
      ]
     },
     "execution_count": 52,
     "metadata": {},
     "output_type": "execute_result"
    },
    {
     "data": {
      "image/png": "[encoded data removed]",
      "text/plain": [
       "<matplotlib.figure.Figure at 0x1b3cf96fc18>"
      ]
     },
     "metadata": {},
     "output_type": "display_data"
    }
   ],
   "source": [
    "plt.scatter(x='Region',y='Milk',data=raw_data)"
   ]
  },
  {
   "cell_type": "code",
   "execution_count": null,
   "metadata": {
    "collapsed": true
   },
   "outputs": [],
   "source": [
    "# vizualisation has given some info . outliers are present as well "
   ]
  },
  {
   "cell_type": "code",
   "execution_count": null,
   "metadata": {
    "collapsed": true
   },
   "outputs": [],
   "source": [
    "# algorithms -- KNN with gradient descent (prelim)\n",
    "#               SVM and neural networks "
   ]
  },
  {
   "cell_type": "code",
   "execution_count": null,
   "metadata": {
    "collapsed": true
   },
   "outputs": [],
   "source": [
    "# KNN "
   ]
  },
  {
   "cell_type": "code",
   "execution_count": 157,
   "metadata": {
    "collapsed": true
   },
   "outputs": [],
   "source": [
    "from sklearn.neighbors import KNeighborsClassifier"
   ]
  },
  {
   "cell_type": "code",
   "execution_count": 158,
   "metadata": {
    "collapsed": true
   },
   "outputs": [],
   "source": [
    "from sklearn.cross_validation import train_test_split"
   ]
  },
  {
   "cell_type": "code",
   "execution_count": 159,
   "metadata": {
    "collapsed": true
   },
   "outputs": [],
   "source": [
    "#differentiating the target feature from the dataset"
   ]
  },
  {
   "cell_type": "code",
   "execution_count": 160,
   "metadata": {},
   "outputs": [
    {
     "data": {
      "text/plain": [
       "Index(['Channel', 'Region', 'Fresh', 'Milk', 'Grocery', 'Frozen',\n",
       "       'Detergents_Paper', 'Delicassen'],\n",
       "      dtype='object')"
      ]
     },
     "execution_count": 160,
     "metadata": {},
     "output_type": "execute_result"
    }
   ],
   "source": [
    "raw_data.columns"
   ]
  },
  {
   "cell_type": "code",
   "execution_count": 161,
   "metadata": {
    "collapsed": true
   },
   "outputs": [],
   "source": [
    "X = raw_data[['Fresh','Milk','Grocery','Frozen','Detergents_Paper','Delicassen']]\n",
    "y = raw_data.loc[:,'Region']"
   ]
  },
  {
   "cell_type": "code",
   "execution_count": 162,
   "metadata": {
    "collapsed": true
   },
   "outputs": [],
   "source": [
    "X_train, X_test, y_train, y_test = train_test_split(X, y, test_size=0.2, train_size=0.8)"
   ]
  },
  {
   "cell_type": "code",
   "execution_count": 163,
   "metadata": {
    "collapsed": true
   },
   "outputs": [],
   "source": [
    "neigh = KNeighborsClassifier(n_neighbors=3)"
   ]
  },
  {
   "cell_type": "code",
   "execution_count": 164,
   "metadata": {},
   "outputs": [
    {
     "data": {
      "text/plain": [
       "KNeighborsClassifier(algorithm='auto', leaf_size=30, metric='minkowski',\n",
       "           metric_params=None, n_jobs=1, n_neighbors=3, p=2,\n",
       "           weights='uniform')"
      ]
     },
     "execution_count": 164,
     "metadata": {},
     "output_type": "execute_result"
    }
   ],
   "source": [
    "neigh.fit(X_train,y_train)"
   ]
  },
  {
   "cell_type": "code",
   "execution_count": 165,
   "metadata": {
    "collapsed": true
   },
   "outputs": [],
   "source": [
    "predictions = neigh.predict(X_test)"
   ]
  },
  {
   "cell_type": "code",
   "execution_count": 168,
   "metadata": {},
   "outputs": [
    {
     "name": "stdout",
     "output_type": "stream",
     "text": [
      "Accuracy is  59.0909090909 % for K-Value: 1\n",
      "Accuracy is  40.9090909091 % for K-Value: 2\n",
      "Accuracy is  61.3636363636 % for K-Value: 3\n",
      "Accuracy is  57.9545454545 % for K-Value: 4\n",
      "Accuracy is  64.7727272727 % for K-Value: 5\n",
      "Accuracy is  68.1818181818 % for K-Value: 6\n",
      "Accuracy is  72.7272727273 % for K-Value: 7\n",
      "Accuracy is  73.8636363636 % for K-Value: 8\n",
      "Accuracy is  75.0 % for K-Value: 9\n",
      "Accuracy is  76.1363636364 % for K-Value: 10\n",
      "Accuracy is  76.1363636364 % for K-Value: 11\n",
      "Accuracy is  76.1363636364 % for K-Value: 12\n",
      "Accuracy is  77.2727272727 % for K-Value: 13\n",
      "Accuracy is  77.2727272727 % for K-Value: 14\n",
      "Accuracy is  77.2727272727 % for K-Value: 15\n",
      "Accuracy is  77.2727272727 % for K-Value: 16\n",
      "Accuracy is  77.2727272727 % for K-Value: 17\n",
      "Accuracy is  77.2727272727 % for K-Value: 18\n",
      "Accuracy is  77.2727272727 % for K-Value: 19\n",
      "Accuracy is  77.2727272727 % for K-Value: 20\n",
      "Accuracy is  77.2727272727 % for K-Value: 21\n",
      "Accuracy is  77.2727272727 % for K-Value: 22\n",
      "Accuracy is  77.2727272727 % for K-Value: 23\n",
      "Accuracy is  77.2727272727 % for K-Value: 24\n",
      "Accuracy is  77.2727272727 % for K-Value: 25\n"
     ]
    }
   ],
   "source": [
    "for K in range(25):\n",
    "     K_value = K+1\n",
    "     neigh1 = KNeighborsClassifier(n_neighbors = K_value, weights='uniform', algorithm='auto')\n",
    "     neigh1.fit(X_train, y_train) \n",
    "     y_pred = neigh1.predict(X_test)\n",
    "     print (\"Accuracy is \", accuracy_score(y_test,y_pred)*100,\"% for K-Value:\",K_value)"
   ]
  },
  {
   "cell_type": "code",
   "execution_count": 190,
   "metadata": {
    "collapsed": true
   },
   "outputs": [],
   "source": [
    "# scoring "
   ]
  },
  {
   "cell_type": "code",
   "execution_count": 79,
   "metadata": {
    "collapsed": true
   },
   "outputs": [],
   "source": [
    "from sklearn.metrics import confusion_matrix, mean_squared_error, accuracy_score,precision_score"
   ]
  },
  {
   "cell_type": "code",
   "execution_count": 192,
   "metadata": {},
   "outputs": [
    {
     "data": {
      "text/plain": [
       "array([[ 3,  1, 13],\n",
       "       [ 0,  1,  5],\n",
       "       [16,  1, 48]], dtype=int64)"
      ]
     },
     "execution_count": 192,
     "metadata": {},
     "output_type": "execute_result"
    }
   ],
   "source": [
    "confusion_matrix(y_test,predictions)"
   ]
  },
  {
   "cell_type": "code",
   "execution_count": 193,
   "metadata": {},
   "outputs": [
    {
     "data": {
      "text/plain": [
       "1.3977272727272727"
      ]
     },
     "execution_count": 193,
     "metadata": {},
     "output_type": "execute_result"
    }
   ],
   "source": [
    "mean_squared_error(y_test,predictions)"
   ]
  },
  {
   "cell_type": "code",
   "execution_count": 194,
   "metadata": {},
   "outputs": [
    {
     "data": {
      "text/plain": [
       "0.59090909090909094"
      ]
     },
     "execution_count": 194,
     "metadata": {},
     "output_type": "execute_result"
    }
   ],
   "source": [
    "accuracy_score(y_test,predictions)"
   ]
  },
  {
   "cell_type": "code",
   "execution_count": null,
   "metadata": {
    "collapsed": true
   },
   "outputs": [],
   "source": [
    "# ------------------------------------------------------for channel grouping "
   ]
  },
  {
   "cell_type": "code",
   "execution_count": 141,
   "metadata": {
    "collapsed": true
   },
   "outputs": [],
   "source": [
    "X = raw_data[['Fresh','Milk','Grocery','Frozen','Detergents_Paper','Delicassen']]\n",
    "y = raw_data.loc[:,'Channel']"
   ]
  },
  {
   "cell_type": "code",
   "execution_count": 166,
   "metadata": {
    "collapsed": true
   },
   "outputs": [],
   "source": [
    "\n",
    "X_train, X_test, y_train, y_test = train_test_split(X, y, test_size=0.2, train_size=0.8)"
   ]
  },
  {
   "cell_type": "code",
   "execution_count": 167,
   "metadata": {
    "collapsed": true
   },
   "outputs": [],
   "source": [
    "neigh = KNeighborsClassifier(n_neighbors=2)"
   ]
  },
  {
   "cell_type": "code",
   "execution_count": 168,
   "metadata": {},
   "outputs": [
    {
     "data": {
      "text/plain": [
       "KNeighborsClassifier(algorithm='auto', leaf_size=30, metric='minkowski',\n",
       "           metric_params=None, n_jobs=1, n_neighbors=2, p=2,\n",
       "           weights='uniform')"
      ]
     },
     "execution_count": 168,
     "metadata": {},
     "output_type": "execute_result"
    }
   ],
   "source": [
    "neigh.fit(X_train,y_train)"
   ]
  },
  {
   "cell_type": "code",
   "execution_count": 169,
   "metadata": {
    "collapsed": true
   },
   "outputs": [],
   "source": [
    "predictions = neigh.predict(X_test)"
   ]
  },
  {
   "cell_type": "code",
   "execution_count": 170,
   "metadata": {},
   "outputs": [
    {
     "data": {
      "text/plain": [
       "0.11363636363636363"
      ]
     },
     "execution_count": 170,
     "metadata": {},
     "output_type": "execute_result"
    }
   ],
   "source": [
    "mean_squared_error(y_test,predictions)"
   ]
  },
  {
   "cell_type": "code",
   "execution_count": 171,
   "metadata": {},
   "outputs": [
    {
     "data": {
      "text/plain": [
       "0.88636363636363635"
      ]
     },
     "execution_count": 171,
     "metadata": {},
     "output_type": "execute_result"
    }
   ],
   "source": [
    "accuracy_score(y_test,predictions) # grouping according to the channel (similar to predicitng though )"
   ]
  },
  {
   "cell_type": "code",
   "execution_count": 195,
   "metadata": {
    "collapsed": true
   },
   "outputs": [],
   "source": [
    "# neural networks"
   ]
  },
  {
   "cell_type": "code",
   "execution_count": 88,
   "metadata": {
    "collapsed": true
   },
   "outputs": [],
   "source": [
    "from sklearn.neural_network import MLPClassifier"
   ]
  },
  {
   "cell_type": "code",
   "execution_count": 89,
   "metadata": {
    "collapsed": true
   },
   "outputs": [],
   "source": [
    "mlp = MLPClassifier()"
   ]
  },
  {
   "cell_type": "code",
   "execution_count": 199,
   "metadata": {
    "collapsed": true
   },
   "outputs": [],
   "source": [
    "X = raw_data[['Fresh','Milk','Grocery','Frozen','Detergents_Paper','Delicassen']]\n",
    "y = raw_data.loc[:,'Region']\n",
    "X_train, X_test, y_train, y_test = train_test_split(X, y, test_size=0.2, train_size=0.8)"
   ]
  },
  {
   "cell_type": "code",
   "execution_count": 200,
   "metadata": {},
   "outputs": [
    {
     "data": {
      "text/plain": [
       "MLPClassifier(activation='relu', alpha=0.0001, batch_size='auto', beta_1=0.9,\n",
       "       beta_2=0.999, early_stopping=False, epsilon=1e-08,\n",
       "       hidden_layer_sizes=(100,), learning_rate='constant',\n",
       "       learning_rate_init=0.001, max_iter=200, momentum=0.9,\n",
       "       nesterovs_momentum=True, power_t=0.5, random_state=None,\n",
       "       shuffle=True, solver='adam', tol=0.0001, validation_fraction=0.1,\n",
       "       verbose=False, warm_start=False)"
      ]
     },
     "execution_count": 200,
     "metadata": {},
     "output_type": "execute_result"
    }
   ],
   "source": [
    "mlp.fit(X_train,y_train)"
   ]
  },
  {
   "cell_type": "code",
   "execution_count": 201,
   "metadata": {
    "collapsed": true
   },
   "outputs": [],
   "source": [
    "neuralpredict = mlp.predict(X_test)"
   ]
  },
  {
   "cell_type": "code",
   "execution_count": 203,
   "metadata": {},
   "outputs": [
    {
     "data": {
      "text/plain": [
       "1.0795454545454546"
      ]
     },
     "execution_count": 203,
     "metadata": {},
     "output_type": "execute_result"
    }
   ],
   "source": [
    "mean_squared_error(y_test,neuralpredict)"
   ]
  },
  {
   "cell_type": "code",
   "execution_count": 204,
   "metadata": {},
   "outputs": [
    {
     "data": {
      "text/plain": [
       "0.60227272727272729"
      ]
     },
     "execution_count": 204,
     "metadata": {},
     "output_type": "execute_result"
    }
   ],
   "source": [
    "accuracy_score(y_test,neuralpredict)"
   ]
  },
  {
   "cell_type": "code",
   "execution_count": 99,
   "metadata": {
    "collapsed": true
   },
   "outputs": [],
   "source": [
    "from sklearn.svm import SVC"
   ]
  },
  {
   "cell_type": "code",
   "execution_count": 212,
   "metadata": {
    "collapsed": true
   },
   "outputs": [],
   "source": [
    "clf = SVC()"
   ]
  },
  {
   "cell_type": "code",
   "execution_count": 213,
   "metadata": {
    "collapsed": true
   },
   "outputs": [],
   "source": [
    "X = raw_data[['Fresh','Milk','Grocery','Frozen','Detergents_Paper','Delicassen']]\n",
    "y = raw_data.loc[:,'Region']\n",
    "X_train, X_test, y_train, y_test = train_test_split(X, y, test_size=0.2, train_size=0.8)"
   ]
  },
  {
   "cell_type": "code",
   "execution_count": 215,
   "metadata": {},
   "outputs": [
    {
     "data": {
      "text/plain": [
       "SVC(C=1.0, cache_size=200, class_weight=None, coef0=0.0,\n",
       "  decision_function_shape='ovr', degree=3, gamma='auto', kernel='rbf',\n",
       "  max_iter=-1, probability=False, random_state=None, shrinking=True,\n",
       "  tol=0.001, verbose=False)"
      ]
     },
     "execution_count": 215,
     "metadata": {},
     "output_type": "execute_result"
    }
   ],
   "source": [
    "clf.fit(X_train,y_train)"
   ]
  },
  {
   "cell_type": "code",
   "execution_count": 216,
   "metadata": {
    "collapsed": true
   },
   "outputs": [],
   "source": [
    "predi = clf.predict(X_test)"
   ]
  },
  {
   "cell_type": "code",
   "execution_count": 217,
   "metadata": {},
   "outputs": [
    {
     "data": {
      "text/plain": [
       "0.72727272727272729"
      ]
     },
     "execution_count": 217,
     "metadata": {},
     "output_type": "execute_result"
    }
   ],
   "source": [
    "accuracy_score(y_test,predi)"
   ]
  },
  {
   "cell_type": "code",
   "execution_count": 225,
   "metadata": {},
   "outputs": [
    {
     "data": {
      "text/plain": [
       "0.72727272727272729"
      ]
     },
     "execution_count": 225,
     "metadata": {},
     "output_type": "execute_result"
    }
   ],
   "source": [
    "clf.score(X_test,y_test)"
   ]
  },
  {
   "cell_type": "code",
   "execution_count": 1,
   "metadata": {
    "collapsed": true
   },
   "outputs": [],
   "source": [
    "# to implement feature scaling "
   ]
  },
  {
   "cell_type": "code",
   "execution_count": 5,
   "metadata": {},
   "outputs": [
    {
     "data": {
      "text/plain": [
       "Index(['Channel', 'Region', 'Fresh', 'Milk', 'Grocery', 'Frozen',\n",
       "       'Detergents_Paper', 'Delicassen'],\n",
       "      dtype='object')"
      ]
     },
     "execution_count": 5,
     "metadata": {},
     "output_type": "execute_result"
    }
   ],
   "source": [
    "raw_data.columns "
   ]
  },
  {
   "cell_type": "code",
   "execution_count": 12,
   "metadata": {
    "collapsed": true
   },
   "outputs": [],
   "source": [
    "X = raw_data.drop(labels='Region',axis=1) # dripping the target region column "
   ]
  },
  {
   "cell_type": "code",
   "execution_count": 13,
   "metadata": {},
   "outputs": [
    {
     "data": {
      "text/plain": [
       "Index(['Channel', 'Fresh', 'Milk', 'Grocery', 'Frozen', 'Detergents_Paper',\n",
       "       'Delicassen'],\n",
       "      dtype='object')"
      ]
     },
     "execution_count": 13,
     "metadata": {},
     "output_type": "execute_result"
    }
   ],
   "source": [
    "X.columns "
   ]
  },
  {
   "cell_type": "code",
   "execution_count": 14,
   "metadata": {},
   "outputs": [
    {
     "data": {
      "text/html": [
       "<div>\n",
       "<style>\n",
       "    .dataframe thead tr:only-child th {\n",
       "        text-align: right;\n",
       "    }\n",
       "\n",
       "    .dataframe thead th {\n",
       "        text-align: left;\n",
       "    }\n",
       "\n",
       "    .dataframe tbody tr th {\n",
       "        vertical-align: top;\n",
       "    }\n",
       "</style>\n",
       "<table border=\"1\" class=\"dataframe\">\n",
       "  <thead>\n",
       "    <tr style=\"text-align: right;\">\n",
       "      <th></th>\n",
       "      <th>Channel</th>\n",
       "      <th>Fresh</th>\n",
       "      <th>Milk</th>\n",
       "      <th>Grocery</th>\n",
       "      <th>Frozen</th>\n",
       "      <th>Detergents_Paper</th>\n",
       "      <th>Delicassen</th>\n",
       "    </tr>\n",
       "  </thead>\n",
       "  <tbody>\n",
       "    <tr>\n",
       "      <th>count</th>\n",
       "      <td>440.000000</td>\n",
       "      <td>440.000000</td>\n",
       "      <td>440.000000</td>\n",
       "      <td>440.000000</td>\n",
       "      <td>440.000000</td>\n",
       "      <td>440.000000</td>\n",
       "      <td>440.000000</td>\n",
       "    </tr>\n",
       "    <tr>\n",
       "      <th>mean</th>\n",
       "      <td>1.322727</td>\n",
       "      <td>12000.297727</td>\n",
       "      <td>5796.265909</td>\n",
       "      <td>7951.277273</td>\n",
       "      <td>3071.931818</td>\n",
       "      <td>2881.493182</td>\n",
       "      <td>1524.870455</td>\n",
       "    </tr>\n",
       "    <tr>\n",
       "      <th>std</th>\n",
       "      <td>0.468052</td>\n",
       "      <td>12647.328865</td>\n",
       "      <td>7380.377175</td>\n",
       "      <td>9503.162829</td>\n",
       "      <td>4854.673333</td>\n",
       "      <td>4767.854448</td>\n",
       "      <td>2820.105937</td>\n",
       "    </tr>\n",
       "    <tr>\n",
       "      <th>min</th>\n",
       "      <td>1.000000</td>\n",
       "      <td>3.000000</td>\n",
       "      <td>55.000000</td>\n",
       "      <td>3.000000</td>\n",
       "      <td>25.000000</td>\n",
       "      <td>3.000000</td>\n",
       "      <td>3.000000</td>\n",
       "    </tr>\n",
       "    <tr>\n",
       "      <th>25%</th>\n",
       "      <td>1.000000</td>\n",
       "      <td>3127.750000</td>\n",
       "      <td>1533.000000</td>\n",
       "      <td>2153.000000</td>\n",
       "      <td>742.250000</td>\n",
       "      <td>256.750000</td>\n",
       "      <td>408.250000</td>\n",
       "    </tr>\n",
       "    <tr>\n",
       "      <th>50%</th>\n",
       "      <td>1.000000</td>\n",
       "      <td>8504.000000</td>\n",
       "      <td>3627.000000</td>\n",
       "      <td>4755.500000</td>\n",
       "      <td>1526.000000</td>\n",
       "      <td>816.500000</td>\n",
       "      <td>965.500000</td>\n",
       "    </tr>\n",
       "    <tr>\n",
       "      <th>75%</th>\n",
       "      <td>2.000000</td>\n",
       "      <td>16933.750000</td>\n",
       "      <td>7190.250000</td>\n",
       "      <td>10655.750000</td>\n",
       "      <td>3554.250000</td>\n",
       "      <td>3922.000000</td>\n",
       "      <td>1820.250000</td>\n",
       "    </tr>\n",
       "    <tr>\n",
       "      <th>max</th>\n",
       "      <td>2.000000</td>\n",
       "      <td>112151.000000</td>\n",
       "      <td>73498.000000</td>\n",
       "      <td>92780.000000</td>\n",
       "      <td>60869.000000</td>\n",
       "      <td>40827.000000</td>\n",
       "      <td>47943.000000</td>\n",
       "    </tr>\n",
       "  </tbody>\n",
       "</table>\n",
       "</div>"
      ],
      "text/plain": [
       "          Channel          Fresh          Milk       Grocery        Frozen  \\\n",
       "count  440.000000     440.000000    440.000000    440.000000    440.000000   \n",
       "mean     1.322727   12000.297727   5796.265909   7951.277273   3071.931818   \n",
       "std      0.468052   12647.328865   7380.377175   9503.162829   4854.673333   \n",
       "min      1.000000       3.000000     55.000000      3.000000     25.000000   \n",
       "25%      1.000000    3127.750000   1533.000000   2153.000000    742.250000   \n",
       "50%      1.000000    8504.000000   3627.000000   4755.500000   1526.000000   \n",
       "75%      2.000000   16933.750000   7190.250000  10655.750000   3554.250000   \n",
       "max      2.000000  112151.000000  73498.000000  92780.000000  60869.000000   \n",
       "\n",
       "       Detergents_Paper    Delicassen  \n",
       "count        440.000000    440.000000  \n",
       "mean        2881.493182   1524.870455  \n",
       "std         4767.854448   2820.105937  \n",
       "min            3.000000      3.000000  \n",
       "25%          256.750000    408.250000  \n",
       "50%          816.500000    965.500000  \n",
       "75%         3922.000000   1820.250000  \n",
       "max        40827.000000  47943.000000  "
      ]
     },
     "execution_count": 14,
     "metadata": {},
     "output_type": "execute_result"
    }
   ],
   "source": [
    "X.describe()"
   ]
  },
  {
   "cell_type": "code",
   "execution_count": 16,
   "metadata": {},
   "outputs": [
    {
     "data": {
      "image/png": "[encoded data removed]",
      "text/plain": [
       "<matplotlib.figure.Figure at 0x2005d002be0>"
      ]
     },
     "metadata": {},
     "output_type": "display_data"
    },
    {
     "data": {
      "image/png": "[encoded data removed]",
      "text/plain": [
       "<matplotlib.figure.Figure at 0x2005ea83f28>"
      ]
     },
     "metadata": {},
     "output_type": "display_data"
    },
    {
     "data": {
      "image/png": "[encoded data removed]",
      "text/plain": [
       "<matplotlib.figure.Figure at 0x2005eabbe10>"
      ]
     },
     "metadata": {},
     "output_type": "display_data"
    },
    {
     "data": {
      "image/png": "[encoded data removed]",
      "text/plain": [
       "<matplotlib.figure.Figure at 0x2005eb07c50>"
      ]
     },
     "metadata": {},
     "output_type": "display_data"
    },
    {
     "data": {
      "image/png": "[encoded data removed]",
      "text/plain": [
       "<matplotlib.figure.Figure at 0x2005eb24550>"
      ]
     },
     "metadata": {},
     "output_type": "display_data"
    },
    {
     "data": {
      "image/png": "[encoded data removed]",
      "text/plain": [
       "<matplotlib.figure.Figure at 0x2005ebc1d68>"
      ]
     },
     "metadata": {},
     "output_type": "display_data"
    },
    {
     "data": {
      "image/png": "[encoded data removed]",
      "text/plain": [
       "<matplotlib.figure.Figure at 0x2005ec1ff60>"
      ]
     },
     "metadata": {},
     "output_type": "display_data"
    }
   ],
   "source": [
    "# outlier count is more .. \n",
    "for n in X.columns:\n",
    "    plt.boxplot(X[n]);\n",
    "    plt.show();"
   ]
  },
  {
   "cell_type": "code",
   "execution_count": 17,
   "metadata": {
    "collapsed": true
   },
   "outputs": [],
   "source": [
    "# scaling the data  "
   ]
  },
  {
   "cell_type": "code",
   "execution_count": 7,
   "metadata": {},
   "outputs": [
    {
     "name": "stdout",
     "output_type": "stream",
     "text": [
      "     Channel  Region  Fresh   Milk  Grocery  Frozen  Detergents_Paper  \\\n",
      "0          2       3  12669   9656     7561     214              2674   \n",
      "1          2       3   7057   9810     9568    1762              3293   \n",
      "2          2       3   6353   8808     7684    2405              3516   \n",
      "3          1       3  13265   1196     4221    6404               507   \n",
      "4          2       3  22615   5410     7198    3915              1777   \n",
      "5          2       3   9413   8259     5126     666              1795   \n",
      "6          2       3  12126   3199     6975     480              3140   \n",
      "7          2       3   7579   4956     9426    1669              3321   \n",
      "8          1       3   5963   3648     6192     425              1716   \n",
      "9          2       3   6006  11093    18881    1159              7425   \n",
      "10         2       3   3366   5403    12974    4400              5977   \n",
      "11         2       3  13146   1124     4523    1420               549   \n",
      "12         2       3  31714  12319    11757     287              3881   \n",
      "13         2       3  21217   6208    14982    3095              6707   \n",
      "14         2       3  24653   9465    12091     294              5058   \n",
      "15         1       3  10253   1114     3821     397               964   \n",
      "16         2       3   1020   8816    12121     134              4508   \n",
      "17         1       3   5876   6157     2933     839               370   \n",
      "18         2       3  18601   6327    10099    2205              2767   \n",
      "19         1       3   7780   2495     9464     669              2518   \n",
      "20         2       3  17546   4519     4602    1066              2259   \n",
      "21         1       3   5567    871     2010    3383               375   \n",
      "22         1       3  31276   1917     4469    9408              2381   \n",
      "24         2       3  22647   9776    13792    2915              4482   \n",
      "25         2       3  16165   4230     7595     201              4003   \n",
      "26         1       3   9898    961     2861    3151               242   \n",
      "27         1       3  14276    803     3045     485               100   \n",
      "28         2       3   4113  20484    25957    1158              8604   \n",
      "29         1       3  43088   2100     2609    1200              1107   \n",
      "30         1       3  18815   3610    11107    1148              2134   \n",
      "31         1       3   2612   4339     3133    2088               820   \n",
      "32         1       3  21632   1318     2886     266               918   \n",
      "33         1       3  29729   4786     7326    6130               361   \n",
      "34         1       3   1502   1979     2262     425               483   \n",
      "35         2       3    688   5491    11091     833              4239   \n",
      "36         1       3  29955   4362     5428    1729               862   \n",
      "37         2       3  15168  10556    12477    1920              6506   \n",
      "38         2       3   4591  15729    16709      33              6956   \n",
      "40         1       3  24025   4332     4757    9510              1145   \n",
      "41         1       3  19176   3065     5956    2033              2575   \n",
      "42         2       3  10850   7555    14961     188              6899   \n",
      "43         2       3    630  11095    23998     787              9529   \n",
      "44         2       3   9670   7027    10471     541              4618   \n",
      "45         2       3   5181  22044    21531    1740              7353   \n",
      "46         2       3   3103  14069    21955    1668              6792   \n",
      "48         2       3  11519   6152    10868     584              5121   \n",
      "49         2       3   4967  21412    28921    1798             13583   \n",
      "50         1       3   6269   1095     1980    3860               609   \n",
      "51         1       3   3347   4051     6996     239              1538   \n",
      "52         2       3  40721   3916     5876     532              2587   \n",
      "..       ...     ...    ...    ...      ...     ...               ...   \n",
      "389        1       3   9385   1530     1422    3019               227   \n",
      "390        1       3   3352   1181     1328    5502               311   \n",
      "391        1       3   2647   2761     2313     907                95   \n",
      "392        1       3    518   4180     3600     659               122   \n",
      "393        1       3  23632   6730     3842    8620               385   \n",
      "394        1       3  12377    865     3204    1398               149   \n",
      "395        1       3   9602   1316     1263    2921               841   \n",
      "396        2       3   4515  11991     9345    2644              3378   \n",
      "397        1       3  11535   1666     1428    6838                64   \n",
      "398        1       3  11442   1032      582    5390                74   \n",
      "399        1       3   9612    577      935    1601               469   \n",
      "400        1       3   4446    906     1238    3576               153   \n",
      "401        1       3  27167   2801     2128   13223                92   \n",
      "402        1       3  26539   4753     5091     220                10   \n",
      "403        1       3  25606  11006     4604     127               632   \n",
      "404        1       3  18073   4613     3444    4324               914   \n",
      "405        1       3   6884   1046     1167    2069               593   \n",
      "406        1       3  25066   5010     5026    9806              1092   \n",
      "407        2       3   7362  12844    18683    2854              7883   \n",
      "408        2       3   8257   3880     6407    1646              2730   \n",
      "409        1       3   8708   3634     6100    2349              2123   \n",
      "410        1       3   6633   2096     4563    1389              1860   \n",
      "411        1       3   2126   3289     3281    1535               235   \n",
      "412        1       3     97   3605    12400      98              2970   \n",
      "414        1       3   5969   1990     3417    5679              1135   \n",
      "415        2       3   7842   6046     8552    1691              3540   \n",
      "416        2       3   4389  10940    10908     848              6728   \n",
      "417        1       3   5065   5499    11055     364              3485   \n",
      "418        2       3    660   8494    18622     133              6740   \n",
      "419        1       3   8861   3783     2223     633              1580   \n",
      "420        1       3   4456   5266    13227      25              6818   \n",
      "421        2       3  17063   4847     9053    1031              3415   \n",
      "422        1       3  26400   1377     4172     830               948   \n",
      "423        2       3  17565   3686     4657    1059              1803   \n",
      "424        2       3  16980   2884    12232     874              3213   \n",
      "425        1       3  11243   2408     2593   15348               108   \n",
      "426        1       3  13134   9347    14316    3141              5079   \n",
      "427        1       3  31012  16687     5429   15082               439   \n",
      "428        1       3   3047   5970     4910    2198               850   \n",
      "429        1       3   8607   1750     3580      47                84   \n",
      "430        1       3   3097   4230    16483     575               241   \n",
      "431        1       3   8533   5506     5160   13486              1377   \n",
      "432        1       3  21117   1162     4754     269              1328   \n",
      "433        1       3   1982   3218     1493    1541               356   \n",
      "434        1       3  16731   3922     7994     688              2371   \n",
      "435        1       3  29703  12051    16027   13135               182   \n",
      "436        1       3  39228   1431      764    4510                93   \n",
      "437        2       3  14531  15488    30243     437             14841   \n",
      "438        1       3  10290   1981     2232    1038               168   \n",
      "439        1       3   2787   1698     2510      65               477   \n",
      "\n",
      "     Delicassen  \n",
      "0          1338  \n",
      "1          1776  \n",
      "2          7844  \n",
      "3          1788  \n",
      "4          5185  \n",
      "5          1451  \n",
      "6           545  \n",
      "7          2566  \n",
      "8           750  \n",
      "9          2098  \n",
      "10         1744  \n",
      "11          497  \n",
      "12         2931  \n",
      "13          602  \n",
      "14         2168  \n",
      "15          412  \n",
      "16         1080  \n",
      "17         4478  \n",
      "18         3181  \n",
      "19          501  \n",
      "20         2124  \n",
      "21          569  \n",
      "22         4334  \n",
      "24         5778  \n",
      "25           57  \n",
      "26          833  \n",
      "27          518  \n",
      "28         5206  \n",
      "29          823  \n",
      "30         2963  \n",
      "31          985  \n",
      "32          405  \n",
      "33         1083  \n",
      "34          395  \n",
      "35          436  \n",
      "36         4626  \n",
      "37          714  \n",
      "38          433  \n",
      "40         5864  \n",
      "41         2802  \n",
      "42           46  \n",
      "43           72  \n",
      "44           65  \n",
      "45         4985  \n",
      "46         1452  \n",
      "48         1476  \n",
      "49         1163  \n",
      "50         2162  \n",
      "51          301  \n",
      "52         1278  \n",
      "..          ...  \n",
      "389         684  \n",
      "390        1000  \n",
      "391        1827  \n",
      "392         654  \n",
      "393         819  \n",
      "394         452  \n",
      "395         290  \n",
      "396        2213  \n",
      "397         743  \n",
      "398         247  \n",
      "399         375  \n",
      "400        1014  \n",
      "401        1902  \n",
      "402         340  \n",
      "403         288  \n",
      "404         715  \n",
      "405         378  \n",
      "406         960  \n",
      "407         553  \n",
      "408         344  \n",
      "409        5137  \n",
      "410        1892  \n",
      "411        4365  \n",
      "412          62  \n",
      "414         290  \n",
      "415        1874  \n",
      "416         993  \n",
      "417        1063  \n",
      "418         776  \n",
      "419        1521  \n",
      "420        1393  \n",
      "421        1784  \n",
      "422        1218  \n",
      "423         668  \n",
      "424         249  \n",
      "425        1886  \n",
      "426        1894  \n",
      "427        1163  \n",
      "428         317  \n",
      "429        2501  \n",
      "430        2080  \n",
      "431        1498  \n",
      "432         395  \n",
      "433        1449  \n",
      "434         838  \n",
      "435        2204  \n",
      "436        2346  \n",
      "437        1867  \n",
      "438        2125  \n",
      "439          52  \n",
      "\n",
      "[414 rows x 8 columns]\n"
     ]
    }
   ],
   "source": [
    "df1 = raw_data[raw_data.apply(lambda x: np.abs(x - x.mean()) / x.std() < 3).all(axis=1)]\n",
    "print (df1)"
   ]
  },
  {
   "cell_type": "code",
   "execution_count": 143,
   "metadata": {},
   "outputs": [
    {
     "data": {
      "text/html": [
       "<div>\n",
       "<style>\n",
       "    .dataframe thead tr:only-child th {\n",
       "        text-align: right;\n",
       "    }\n",
       "\n",
       "    .dataframe thead th {\n",
       "        text-align: left;\n",
       "    }\n",
       "\n",
       "    .dataframe tbody tr th {\n",
       "        vertical-align: top;\n",
       "    }\n",
       "</style>\n",
       "<table border=\"1\" class=\"dataframe\">\n",
       "  <thead>\n",
       "    <tr style=\"text-align: right;\">\n",
       "      <th></th>\n",
       "      <th>Channel</th>\n",
       "      <th>Region</th>\n",
       "      <th>Fresh</th>\n",
       "      <th>Milk</th>\n",
       "      <th>Grocery</th>\n",
       "      <th>Frozen</th>\n",
       "      <th>Detergents_Paper</th>\n",
       "      <th>Delicassen</th>\n",
       "    </tr>\n",
       "  </thead>\n",
       "  <tbody>\n",
       "    <tr>\n",
       "      <th>count</th>\n",
       "      <td>414.000000</td>\n",
       "      <td>414.000000</td>\n",
       "      <td>414.000000</td>\n",
       "      <td>414.000000</td>\n",
       "      <td>414.000000</td>\n",
       "      <td>414.000000</td>\n",
       "      <td>414.000000</td>\n",
       "      <td>414.000000</td>\n",
       "    </tr>\n",
       "    <tr>\n",
       "      <th>mean</th>\n",
       "      <td>1.314010</td>\n",
       "      <td>2.548309</td>\n",
       "      <td>10711.758454</td>\n",
       "      <td>4871.920290</td>\n",
       "      <td>6814.043478</td>\n",
       "      <td>2549.898551</td>\n",
       "      <td>2373.393720</td>\n",
       "      <td>1237.939614</td>\n",
       "    </tr>\n",
       "    <tr>\n",
       "      <th>std</th>\n",
       "      <td>0.464682</td>\n",
       "      <td>0.769475</td>\n",
       "      <td>9819.217756</td>\n",
       "      <td>4555.665546</td>\n",
       "      <td>6456.160715</td>\n",
       "      <td>2916.683284</td>\n",
       "      <td>3208.707909</td>\n",
       "      <td>1217.399162</td>\n",
       "    </tr>\n",
       "    <tr>\n",
       "      <th>min</th>\n",
       "      <td>1.000000</td>\n",
       "      <td>1.000000</td>\n",
       "      <td>3.000000</td>\n",
       "      <td>55.000000</td>\n",
       "      <td>3.000000</td>\n",
       "      <td>25.000000</td>\n",
       "      <td>3.000000</td>\n",
       "      <td>3.000000</td>\n",
       "    </tr>\n",
       "    <tr>\n",
       "      <th>25%</th>\n",
       "      <td>1.000000</td>\n",
       "      <td>2.000000</td>\n",
       "      <td>3063.250000</td>\n",
       "      <td>1477.750000</td>\n",
       "      <td>2116.000000</td>\n",
       "      <td>676.750000</td>\n",
       "      <td>252.750000</td>\n",
       "      <td>395.000000</td>\n",
       "    </tr>\n",
       "    <tr>\n",
       "      <th>50%</th>\n",
       "      <td>1.000000</td>\n",
       "      <td>3.000000</td>\n",
       "      <td>8040.000000</td>\n",
       "      <td>3530.000000</td>\n",
       "      <td>4528.000000</td>\n",
       "      <td>1447.000000</td>\n",
       "      <td>772.000000</td>\n",
       "      <td>881.000000</td>\n",
       "    </tr>\n",
       "    <tr>\n",
       "      <th>75%</th>\n",
       "      <td>2.000000</td>\n",
       "      <td>3.000000</td>\n",
       "      <td>15657.000000</td>\n",
       "      <td>6908.500000</td>\n",
       "      <td>9762.250000</td>\n",
       "      <td>3204.250000</td>\n",
       "      <td>3660.500000</td>\n",
       "      <td>1681.750000</td>\n",
       "    </tr>\n",
       "    <tr>\n",
       "      <th>max</th>\n",
       "      <td>2.000000</td>\n",
       "      <td>3.000000</td>\n",
       "      <td>49063.000000</td>\n",
       "      <td>25862.000000</td>\n",
       "      <td>34792.000000</td>\n",
       "      <td>16919.000000</td>\n",
       "      <td>17120.000000</td>\n",
       "      <td>7844.000000</td>\n",
       "    </tr>\n",
       "  </tbody>\n",
       "</table>\n",
       "</div>"
      ],
      "text/plain": [
       "          Channel      Region         Fresh          Milk       Grocery  \\\n",
       "count  414.000000  414.000000    414.000000    414.000000    414.000000   \n",
       "mean     1.314010    2.548309  10711.758454   4871.920290   6814.043478   \n",
       "std      0.464682    0.769475   9819.217756   4555.665546   6456.160715   \n",
       "min      1.000000    1.000000      3.000000     55.000000      3.000000   \n",
       "25%      1.000000    2.000000   3063.250000   1477.750000   2116.000000   \n",
       "50%      1.000000    3.000000   8040.000000   3530.000000   4528.000000   \n",
       "75%      2.000000    3.000000  15657.000000   6908.500000   9762.250000   \n",
       "max      2.000000    3.000000  49063.000000  25862.000000  34792.000000   \n",
       "\n",
       "             Frozen  Detergents_Paper   Delicassen  \n",
       "count    414.000000        414.000000   414.000000  \n",
       "mean    2549.898551       2373.393720  1237.939614  \n",
       "std     2916.683284       3208.707909  1217.399162  \n",
       "min       25.000000          3.000000     3.000000  \n",
       "25%      676.750000        252.750000   395.000000  \n",
       "50%     1447.000000        772.000000   881.000000  \n",
       "75%     3204.250000       3660.500000  1681.750000  \n",
       "max    16919.000000      17120.000000  7844.000000  "
      ]
     },
     "execution_count": 143,
     "metadata": {},
     "output_type": "execute_result"
    }
   ],
   "source": [
    "df1.describe()"
   ]
  },
  {
   "cell_type": "code",
   "execution_count": 8,
   "metadata": {
    "collapsed": true
   },
   "outputs": [],
   "source": [
    "df1y = df1['Region']\n",
    "df1 = df1.drop(labels='Region',axis=1)"
   ]
  },
  {
   "cell_type": "code",
   "execution_count": null,
   "metadata": {
    "collapsed": true
   },
   "outputs": [],
   "source": []
  },
  {
   "cell_type": "code",
   "execution_count": 139,
   "metadata": {},
   "outputs": [
    {
     "data": {
      "image/png": "[encoded data removed]",
      "text/plain": [
       "<matplotlib.figure.Figure at 0x20067510a90>"
      ]
     },
     "metadata": {},
     "output_type": "display_data"
    },
    {
     "data": {
      "image/png": "[encoded data removed]",
      "text/plain": [
       "<matplotlib.figure.Figure at 0x2006719eb70>"
      ]
     },
     "metadata": {},
     "output_type": "display_data"
    },
    {
     "data": {
      "image/png": "[encoded data removed]",
      "text/plain": [
       "<matplotlib.figure.Figure at 0x20068694f60>"
      ]
     },
     "metadata": {},
     "output_type": "display_data"
    },
    {
     "data": {
      "image/png": "[encoded data removed]",
      "text/plain": [
       "<matplotlib.figure.Figure at 0x200686d6f28>"
      ]
     },
     "metadata": {},
     "output_type": "display_data"
    },
    {
     "data": {
      "image/png": "[encoded data removed]",
      "text/plain": [
       "<matplotlib.figure.Figure at 0x2006871cfd0>"
      ]
     },
     "metadata": {},
     "output_type": "display_data"
    },
    {
     "data": {
      "image/png": "[encoded data removed]",
      "text/plain": [
       "<matplotlib.figure.Figure at 0x20068778e80>"
      ]
     },
     "metadata": {},
     "output_type": "display_data"
    },
    {
     "data": {
      "image/png": "[encoded data removed]",
      "text/plain": [
       "<matplotlib.figure.Figure at 0x200697aacf8>"
      ]
     },
     "metadata": {},
     "output_type": "display_data"
    },
    {
     "data": {
      "image/png": "[encoded data removed]",
      "text/plain": [
       "<matplotlib.figure.Figure at 0x2006980ef98>"
      ]
     },
     "metadata": {},
     "output_type": "display_data"
    }
   ],
   "source": [
    "for n in df1.columns:\n",
    "    plt.boxplot(df1[n]);\n",
    "    plt.show();"
   ]
  },
  {
   "cell_type": "code",
   "execution_count": 9,
   "metadata": {
    "collapsed": true
   },
   "outputs": [],
   "source": [
    "from sklearn.preprocessing import MinMaxScaler"
   ]
  },
  {
   "cell_type": "code",
   "execution_count": 10,
   "metadata": {
    "collapsed": true
   },
   "outputs": [],
   "source": [
    "scaler = MinMaxScaler(feature_range=(1000,10000))"
   ]
  },
  {
   "cell_type": "code",
   "execution_count": 15,
   "metadata": {
    "collapsed": true
   },
   "outputs": [],
   "source": [
    "scaled = scaler.fit_transform(X)  "
   ]
  },
  {
   "cell_type": "code",
   "execution_count": 16,
   "metadata": {
    "collapsed": true
   },
   "outputs": [],
   "source": [
    "df2scaled = pd.DataFrame(data=scaled,columns=df1.columns)"
   ]
  },
  {
   "cell_type": "code",
   "execution_count": 17,
   "metadata": {},
   "outputs": [
    {
     "data": {
      "text/html": [
       "<div>\n",
       "<style>\n",
       "    .dataframe thead tr:only-child th {\n",
       "        text-align: right;\n",
       "    }\n",
       "\n",
       "    .dataframe thead th {\n",
       "        text-align: left;\n",
       "    }\n",
       "\n",
       "    .dataframe tbody tr th {\n",
       "        vertical-align: top;\n",
       "    }\n",
       "</style>\n",
       "<table border=\"1\" class=\"dataframe\">\n",
       "  <thead>\n",
       "    <tr style=\"text-align: right;\">\n",
       "      <th></th>\n",
       "      <th>Channel</th>\n",
       "      <th>Fresh</th>\n",
       "      <th>Milk</th>\n",
       "      <th>Grocery</th>\n",
       "      <th>Frozen</th>\n",
       "      <th>Detergents_Paper</th>\n",
       "      <th>Delicassen</th>\n",
       "    </tr>\n",
       "  </thead>\n",
       "  <tbody>\n",
       "    <tr>\n",
       "      <th>count</th>\n",
       "      <td>440.000000</td>\n",
       "      <td>440.000000</td>\n",
       "      <td>440.000000</td>\n",
       "      <td>440.000000</td>\n",
       "      <td>440.000000</td>\n",
       "      <td>440.000000</td>\n",
       "      <td>440.000000</td>\n",
       "    </tr>\n",
       "    <tr>\n",
       "      <th>mean</th>\n",
       "      <td>3904.545455</td>\n",
       "      <td>1962.796301</td>\n",
       "      <td>1703.557768</td>\n",
       "      <td>1771.036954</td>\n",
       "      <td>1450.699927</td>\n",
       "      <td>1634.588444</td>\n",
       "      <td>1285.707845</td>\n",
       "    </tr>\n",
       "    <tr>\n",
       "      <th>std</th>\n",
       "      <td>4212.464125</td>\n",
       "      <td>1014.962013</td>\n",
       "      <td>904.421042</td>\n",
       "      <td>921.871428</td>\n",
       "      <td>718.099730</td>\n",
       "      <td>1051.114296</td>\n",
       "      <td>529.431653</td>\n",
       "    </tr>\n",
       "    <tr>\n",
       "      <th>min</th>\n",
       "      <td>1000.000000</td>\n",
       "      <td>1000.000000</td>\n",
       "      <td>1000.000000</td>\n",
       "      <td>1000.000000</td>\n",
       "      <td>1000.000000</td>\n",
       "      <td>1000.000000</td>\n",
       "      <td>1000.000000</td>\n",
       "    </tr>\n",
       "    <tr>\n",
       "      <th>25%</th>\n",
       "      <td>1000.000000</td>\n",
       "      <td>1250.764615</td>\n",
       "      <td>1181.120052</td>\n",
       "      <td>1208.564623</td>\n",
       "      <td>1106.095096</td>\n",
       "      <td>1055.941358</td>\n",
       "      <td>1076.079474</td>\n",
       "    </tr>\n",
       "    <tr>\n",
       "      <th>50%</th>\n",
       "      <td>1000.000000</td>\n",
       "      <td>1682.214574</td>\n",
       "      <td>1437.727217</td>\n",
       "      <td>1461.024823</td>\n",
       "      <td>1222.026823</td>\n",
       "      <td>1179.343034</td>\n",
       "      <td>1180.694618</td>\n",
       "    </tr>\n",
       "    <tr>\n",
       "      <th>75%</th>\n",
       "      <td>10000.000000</td>\n",
       "      <td>2358.711257</td>\n",
       "      <td>1874.382174</td>\n",
       "      <td>2033.389202</td>\n",
       "      <td>1522.044080</td>\n",
       "      <td>1863.977072</td>\n",
       "      <td>1341.160826</td>\n",
       "    </tr>\n",
       "    <tr>\n",
       "      <th>max</th>\n",
       "      <td>10000.000000</td>\n",
       "      <td>10000.000000</td>\n",
       "      <td>10000.000000</td>\n",
       "      <td>10000.000000</td>\n",
       "      <td>10000.000000</td>\n",
       "      <td>10000.000000</td>\n",
       "      <td>10000.000000</td>\n",
       "    </tr>\n",
       "  </tbody>\n",
       "</table>\n",
       "</div>"
      ],
      "text/plain": [
       "            Channel         Fresh          Milk       Grocery        Frozen  \\\n",
       "count    440.000000    440.000000    440.000000    440.000000    440.000000   \n",
       "mean    3904.545455   1962.796301   1703.557768   1771.036954   1450.699927   \n",
       "std     4212.464125   1014.962013    904.421042    921.871428    718.099730   \n",
       "min     1000.000000   1000.000000   1000.000000   1000.000000   1000.000000   \n",
       "25%     1000.000000   1250.764615   1181.120052   1208.564623   1106.095096   \n",
       "50%     1000.000000   1682.214574   1437.727217   1461.024823   1222.026823   \n",
       "75%    10000.000000   2358.711257   1874.382174   2033.389202   1522.044080   \n",
       "max    10000.000000  10000.000000  10000.000000  10000.000000  10000.000000   \n",
       "\n",
       "       Detergents_Paper    Delicassen  \n",
       "count        440.000000    440.000000  \n",
       "mean        1634.588444   1285.707845  \n",
       "std         1051.114296    529.431653  \n",
       "min         1000.000000   1000.000000  \n",
       "25%         1055.941358   1076.079474  \n",
       "50%         1179.343034   1180.694618  \n",
       "75%         1863.977072   1341.160826  \n",
       "max        10000.000000  10000.000000  "
      ]
     },
     "execution_count": 17,
     "metadata": {},
     "output_type": "execute_result"
    }
   ],
   "source": [
    "df2scaled.describe()"
   ]
  },
  {
   "cell_type": "code",
   "execution_count": null,
   "metadata": {
    "collapsed": true
   },
   "outputs": [],
   "source": []
  },
  {
   "cell_type": "code",
   "execution_count": 46,
   "metadata": {
    "collapsed": true
   },
   "outputs": [],
   "source": [
    "#df1 is scaled by formula while df2 is normalized by min max scaling "
   ]
  },
  {
   "cell_type": "code",
   "execution_count": 146,
   "metadata": {
    "collapsed": true
   },
   "outputs": [],
   "source": [
    "df1scale = scaler.fit_transform(df1)"
   ]
  },
  {
   "cell_type": "code",
   "execution_count": 147,
   "metadata": {},
   "outputs": [
    {
     "data": {
      "text/html": [
       "<div>\n",
       "<style>\n",
       "    .dataframe thead tr:only-child th {\n",
       "        text-align: right;\n",
       "    }\n",
       "\n",
       "    .dataframe thead th {\n",
       "        text-align: left;\n",
       "    }\n",
       "\n",
       "    .dataframe tbody tr th {\n",
       "        vertical-align: top;\n",
       "    }\n",
       "</style>\n",
       "<table border=\"1\" class=\"dataframe\">\n",
       "  <thead>\n",
       "    <tr style=\"text-align: right;\">\n",
       "      <th></th>\n",
       "      <th>Channel</th>\n",
       "      <th>Fresh</th>\n",
       "      <th>Milk</th>\n",
       "      <th>Grocery</th>\n",
       "      <th>Frozen</th>\n",
       "      <th>Detergents_Paper</th>\n",
       "      <th>Delicassen</th>\n",
       "    </tr>\n",
       "  </thead>\n",
       "  <tbody>\n",
       "    <tr>\n",
       "      <th>0</th>\n",
       "      <td>10000.0</td>\n",
       "      <td>3323.562984</td>\n",
       "      <td>4348.277599</td>\n",
       "      <td>2955.273219</td>\n",
       "      <td>1100.686634</td>\n",
       "      <td>2404.393293</td>\n",
       "      <td>2532.330060</td>\n",
       "    </tr>\n",
       "    <tr>\n",
       "      <th>1</th>\n",
       "      <td>10000.0</td>\n",
       "      <td>2294.048104</td>\n",
       "      <td>4401.983958</td>\n",
       "      <td>3474.489063</td>\n",
       "      <td>1925.358115</td>\n",
       "      <td>2729.859204</td>\n",
       "      <td>3035.072057</td>\n",
       "    </tr>\n",
       "    <tr>\n",
       "      <th>2</th>\n",
       "      <td>10000.0</td>\n",
       "      <td>2164.900122</td>\n",
       "      <td>4052.543883</td>\n",
       "      <td>2987.093622</td>\n",
       "      <td>2267.905765</td>\n",
       "      <td>2847.111059</td>\n",
       "      <td>10000.000000</td>\n",
       "    </tr>\n",
       "    <tr>\n",
       "      <th>3</th>\n",
       "      <td>1000.0</td>\n",
       "      <td>3432.898492</td>\n",
       "      <td>1397.915294</td>\n",
       "      <td>2091.206991</td>\n",
       "      <td>4398.307091</td>\n",
       "      <td>1264.999708</td>\n",
       "      <td>3048.845810</td>\n",
       "    </tr>\n",
       "    <tr>\n",
       "      <th>4</th>\n",
       "      <td>10000.0</td>\n",
       "      <td>5148.145128</td>\n",
       "      <td>2867.516565</td>\n",
       "      <td>2861.364224</td>\n",
       "      <td>3072.333373</td>\n",
       "      <td>1932.756908</td>\n",
       "      <td>6947.965821</td>\n",
       "    </tr>\n",
       "    <tr>\n",
       "      <th>5</th>\n",
       "      <td>10000.0</td>\n",
       "      <td>2726.253567</td>\n",
       "      <td>3861.084202</td>\n",
       "      <td>2325.332720</td>\n",
       "      <td>1341.482183</td>\n",
       "      <td>1942.221184</td>\n",
       "      <td>2662.032904</td>\n",
       "    </tr>\n",
       "    <tr>\n",
       "      <th>6</th>\n",
       "      <td>10000.0</td>\n",
       "      <td>3223.950265</td>\n",
       "      <td>2096.446701</td>\n",
       "      <td>2803.673575</td>\n",
       "      <td>1242.393749</td>\n",
       "      <td>2649.412864</td>\n",
       "      <td>1622.114526</td>\n",
       "    </tr>\n",
       "    <tr>\n",
       "      <th>7</th>\n",
       "      <td>10000.0</td>\n",
       "      <td>2389.808398</td>\n",
       "      <td>2709.187430</td>\n",
       "      <td>3437.753313</td>\n",
       "      <td>1875.813898</td>\n",
       "      <td>2744.581410</td>\n",
       "      <td>3941.844153</td>\n",
       "    </tr>\n",
       "    <tr>\n",
       "      <th>8</th>\n",
       "      <td>1000.0</td>\n",
       "      <td>2093.355075</td>\n",
       "      <td>2253.032123</td>\n",
       "      <td>2601.109546</td>\n",
       "      <td>1213.093406</td>\n",
       "      <td>1900.683531</td>\n",
       "      <td>1857.416146</td>\n",
       "    </tr>\n",
       "    <tr>\n",
       "      <th>9</th>\n",
       "      <td>10000.0</td>\n",
       "      <td>2101.243375</td>\n",
       "      <td>4849.420700</td>\n",
       "      <td>5883.785104</td>\n",
       "      <td>1604.119806</td>\n",
       "      <td>4902.436175</td>\n",
       "      <td>3404.667772</td>\n",
       "    </tr>\n",
       "    <tr>\n",
       "      <th>10</th>\n",
       "      <td>10000.0</td>\n",
       "      <td>1616.938443</td>\n",
       "      <td>2865.075367</td>\n",
       "      <td>4355.629653</td>\n",
       "      <td>3330.709128</td>\n",
       "      <td>4141.087807</td>\n",
       "      <td>2998.342048</td>\n",
       "    </tr>\n",
       "    <tr>\n",
       "      <th>11</th>\n",
       "      <td>10000.0</td>\n",
       "      <td>3411.068080</td>\n",
       "      <td>1372.805828</td>\n",
       "      <td>2169.335135</td>\n",
       "      <td>1743.163253</td>\n",
       "      <td>1287.083017</td>\n",
       "      <td>1567.019513</td>\n",
       "    </tr>\n",
       "    <tr>\n",
       "      <th>12</th>\n",
       "      <td>10000.0</td>\n",
       "      <td>6817.346107</td>\n",
       "      <td>5276.979114</td>\n",
       "      <td>4040.788755</td>\n",
       "      <td>1139.576181</td>\n",
       "      <td>3039.025530</td>\n",
       "      <td>4360.795817</td>\n",
       "    </tr>\n",
       "    <tr>\n",
       "      <th>13</th>\n",
       "      <td>10000.0</td>\n",
       "      <td>4891.683653</td>\n",
       "      <td>3145.813151</td>\n",
       "      <td>4875.104200</td>\n",
       "      <td>2635.491891</td>\n",
       "      <td>4524.916749</td>\n",
       "      <td>1687.539855</td>\n",
       "    </tr>\n",
       "    <tr>\n",
       "      <th>14</th>\n",
       "      <td>10000.0</td>\n",
       "      <td>5522.013861</td>\n",
       "      <td>4281.667765</td>\n",
       "      <td>4127.195378</td>\n",
       "      <td>1143.305315</td>\n",
       "      <td>3657.883975</td>\n",
       "      <td>3485.014666</td>\n",
       "    </tr>\n",
       "    <tr>\n",
       "      <th>15</th>\n",
       "      <td>1000.0</td>\n",
       "      <td>2880.350591</td>\n",
       "      <td>1369.318402</td>\n",
       "      <td>1987.726005</td>\n",
       "      <td>1198.176868</td>\n",
       "      <td>1505.287141</td>\n",
       "      <td>1469.455427</td>\n",
       "    </tr>\n",
       "    <tr>\n",
       "      <th>16</th>\n",
       "      <td>10000.0</td>\n",
       "      <td>1186.567468</td>\n",
       "      <td>4055.333824</td>\n",
       "      <td>4134.956452</td>\n",
       "      <td>1058.067953</td>\n",
       "      <td>3368.697786</td>\n",
       "      <td>2236.194363</td>\n",
       "    </tr>\n",
       "    <tr>\n",
       "      <th>17</th>\n",
       "      <td>1000.0</td>\n",
       "      <td>2077.395026</td>\n",
       "      <td>3128.027279</td>\n",
       "      <td>1757.998218</td>\n",
       "      <td>1433.645081</td>\n",
       "      <td>1192.966057</td>\n",
       "      <td>6136.462186</td>\n",
       "    </tr>\n",
       "    <tr>\n",
       "      <th>18</th>\n",
       "      <td>10000.0</td>\n",
       "      <td>4411.781492</td>\n",
       "      <td>3187.313520</td>\n",
       "      <td>3611.860071</td>\n",
       "      <td>2161.359062</td>\n",
       "      <td>2453.292049</td>\n",
       "      <td>4647.749012</td>\n",
       "    </tr>\n",
       "    <tr>\n",
       "      <th>19</th>\n",
       "      <td>1000.0</td>\n",
       "      <td>2426.681614</td>\n",
       "      <td>1850.931918</td>\n",
       "      <td>3447.584006</td>\n",
       "      <td>1343.080384</td>\n",
       "      <td>2322.369574</td>\n",
       "      <td>1571.610764</td>\n",
       "    </tr>\n",
       "    <tr>\n",
       "      <th>20</th>\n",
       "      <td>10000.0</td>\n",
       "      <td>4218.242968</td>\n",
       "      <td>2556.786918</td>\n",
       "      <td>2189.772629</td>\n",
       "      <td>1554.575589</td>\n",
       "      <td>2186.189169</td>\n",
       "      <td>3434.510904</td>\n",
       "    </tr>\n",
       "    <tr>\n",
       "      <th>21</th>\n",
       "      <td>1000.0</td>\n",
       "      <td>2020.709336</td>\n",
       "      <td>1284.573953</td>\n",
       "      <td>1519.215844</td>\n",
       "      <td>2788.919143</td>\n",
       "      <td>1195.595022</td>\n",
       "      <td>1649.662033</td>\n",
       "    </tr>\n",
       "    <tr>\n",
       "      <th>22</th>\n",
       "      <td>1000.0</td>\n",
       "      <td>6736.995516</td>\n",
       "      <td>1649.358701</td>\n",
       "      <td>2155.365202</td>\n",
       "      <td>5998.638570</td>\n",
       "      <td>2250.335923</td>\n",
       "      <td>5971.177146</td>\n",
       "    </tr>\n",
       "    <tr>\n",
       "      <th>23</th>\n",
       "      <td>10000.0</td>\n",
       "      <td>5154.015491</td>\n",
       "      <td>4390.126710</td>\n",
       "      <td>4567.248268</td>\n",
       "      <td>2539.599858</td>\n",
       "      <td>3355.027166</td>\n",
       "      <td>7628.618799</td>\n",
       "    </tr>\n",
       "    <tr>\n",
       "      <th>24</th>\n",
       "      <td>10000.0</td>\n",
       "      <td>3964.900122</td>\n",
       "      <td>2456.000310</td>\n",
       "      <td>2964.069102</td>\n",
       "      <td>1093.761099</td>\n",
       "      <td>3103.172285</td>\n",
       "      <td>1061.981890</td>\n",
       "    </tr>\n",
       "    <tr>\n",
       "      <th>25</th>\n",
       "      <td>1000.0</td>\n",
       "      <td>2815.226254</td>\n",
       "      <td>1315.960786</td>\n",
       "      <td>1739.371640</td>\n",
       "      <td>2665.324967</td>\n",
       "      <td>1125.664544</td>\n",
       "      <td>1952.684607</td>\n",
       "    </tr>\n",
       "    <tr>\n",
       "      <th>26</th>\n",
       "      <td>1000.0</td>\n",
       "      <td>3618.365267</td>\n",
       "      <td>1260.859457</td>\n",
       "      <td>1786.972894</td>\n",
       "      <td>1245.057417</td>\n",
       "      <td>1051.001928</td>\n",
       "      <td>1591.123581</td>\n",
       "    </tr>\n",
       "    <tr>\n",
       "      <th>27</th>\n",
       "      <td>10000.0</td>\n",
       "      <td>1753.974725</td>\n",
       "      <td>8124.462355</td>\n",
       "      <td>7714.363736</td>\n",
       "      <td>1603.587072</td>\n",
       "      <td>5522.346206</td>\n",
       "      <td>6972.069889</td>\n",
       "    </tr>\n",
       "    <tr>\n",
       "      <th>28</th>\n",
       "      <td>1000.0</td>\n",
       "      <td>8903.893192</td>\n",
       "      <td>1713.178595</td>\n",
       "      <td>1674.178620</td>\n",
       "      <td>1625.961880</td>\n",
       "      <td>1580.475551</td>\n",
       "      <td>1941.206479</td>\n",
       "    </tr>\n",
       "    <tr>\n",
       "      <th>29</th>\n",
       "      <td>1000.0</td>\n",
       "      <td>4451.039543</td>\n",
       "      <td>2239.779905</td>\n",
       "      <td>3872.632154</td>\n",
       "      <td>1598.259737</td>\n",
       "      <td>2120.465035</td>\n",
       "      <td>4397.525826</td>\n",
       "    </tr>\n",
       "    <tr>\n",
       "      <th>30</th>\n",
       "      <td>1000.0</td>\n",
       "      <td>1478.618019</td>\n",
       "      <td>2494.013252</td>\n",
       "      <td>1809.738711</td>\n",
       "      <td>2099.029241</td>\n",
       "      <td>1429.572939</td>\n",
       "      <td>2127.152149</td>\n",
       "    </tr>\n",
       "    <tr>\n",
       "      <th>31</th>\n",
       "      <td>1000.0</td>\n",
       "      <td>4967.814921</td>\n",
       "      <td>1440.461890</td>\n",
       "      <td>1745.839202</td>\n",
       "      <td>1128.388777</td>\n",
       "      <td>1481.100660</td>\n",
       "      <td>1461.420737</td>\n",
       "    </tr>\n",
       "    <tr>\n",
       "      <th>32</th>\n",
       "      <td>1000.0</td>\n",
       "      <td>6453.200163</td>\n",
       "      <td>2649.901190</td>\n",
       "      <td>2894.478140</td>\n",
       "      <td>4252.338108</td>\n",
       "      <td>1188.233919</td>\n",
       "      <td>2239.637801</td>\n",
       "    </tr>\n",
       "    <tr>\n",
       "      <th>33</th>\n",
       "      <td>1000.0</td>\n",
       "      <td>1274.989808</td>\n",
       "      <td>1670.980742</td>\n",
       "      <td>1584.408865</td>\n",
       "      <td>1213.093406</td>\n",
       "      <td>1252.380674</td>\n",
       "      <td>1449.942609</td>\n",
       "    </tr>\n",
       "    <tr>\n",
       "      <th>34</th>\n",
       "      <td>10000.0</td>\n",
       "      <td>1125.662454</td>\n",
       "      <td>2895.764715</td>\n",
       "      <td>3868.492914</td>\n",
       "      <td>1430.448680</td>\n",
       "      <td>3227.259450</td>\n",
       "      <td>1497.002933</td>\n",
       "    </tr>\n",
       "    <tr>\n",
       "      <th>35</th>\n",
       "      <td>1000.0</td>\n",
       "      <td>6494.659600</td>\n",
       "      <td>2502.034332</td>\n",
       "      <td>2403.460864</td>\n",
       "      <td>1907.777909</td>\n",
       "      <td>1451.656248</td>\n",
       "      <td>6306.338477</td>\n",
       "    </tr>\n",
       "    <tr>\n",
       "      <th>36</th>\n",
       "      <td>10000.0</td>\n",
       "      <td>3782.001631</td>\n",
       "      <td>4662.145929</td>\n",
       "      <td>4227.054529</td>\n",
       "      <td>2009.530011</td>\n",
       "      <td>4419.232342</td>\n",
       "      <td>1816.094886</td>\n",
       "    </tr>\n",
       "    <tr>\n",
       "      <th>37</th>\n",
       "      <td>10000.0</td>\n",
       "      <td>1841.663269</td>\n",
       "      <td>6466.191343</td>\n",
       "      <td>5321.883354</td>\n",
       "      <td>1004.261868</td>\n",
       "      <td>4655.839224</td>\n",
       "      <td>1493.559495</td>\n",
       "    </tr>\n",
       "    <tr>\n",
       "      <th>38</th>\n",
       "      <td>1000.0</td>\n",
       "      <td>5406.807990</td>\n",
       "      <td>2491.572054</td>\n",
       "      <td>2229.871511</td>\n",
       "      <td>6052.977388</td>\n",
       "      <td>1600.455687</td>\n",
       "      <td>7727.330698</td>\n",
       "    </tr>\n",
       "    <tr>\n",
       "      <th>39</th>\n",
       "      <td>1000.0</td>\n",
       "      <td>4517.264574</td>\n",
       "      <td>2049.715194</td>\n",
       "      <td>2540.055765</td>\n",
       "      <td>2069.728898</td>\n",
       "      <td>2352.339779</td>\n",
       "      <td>4212.727968</td>\n",
       "    </tr>\n",
       "    <tr>\n",
       "      <th>40</th>\n",
       "      <td>10000.0</td>\n",
       "      <td>2989.869547</td>\n",
       "      <td>3615.569419</td>\n",
       "      <td>4869.671448</td>\n",
       "      <td>1086.835563</td>\n",
       "      <td>4625.869019</td>\n",
       "      <td>1049.355949</td>\n",
       "    </tr>\n",
       "    <tr>\n",
       "      <th>41</th>\n",
       "      <td>10000.0</td>\n",
       "      <td>1115.022422</td>\n",
       "      <td>4850.118185</td>\n",
       "      <td>7207.565610</td>\n",
       "      <td>1405.942938</td>\n",
       "      <td>6008.704796</td>\n",
       "      <td>1079.199082</td>\n",
       "    </tr>\n",
       "    <tr>\n",
       "      <th>42</th>\n",
       "      <td>10000.0</td>\n",
       "      <td>2773.399918</td>\n",
       "      <td>3431.433332</td>\n",
       "      <td>3708.097387</td>\n",
       "      <td>1274.890494</td>\n",
       "      <td>3426.535024</td>\n",
       "      <td>1071.164392</td>\n",
       "    </tr>\n",
       "    <tr>\n",
       "      <th>43</th>\n",
       "      <td>10000.0</td>\n",
       "      <td>1949.898084</td>\n",
       "      <td>8668.500794</td>\n",
       "      <td>6569.346633</td>\n",
       "      <td>1913.637978</td>\n",
       "      <td>4864.579073</td>\n",
       "      <td>6718.403265</td>\n",
       "    </tr>\n",
       "    <tr>\n",
       "      <th>44</th>\n",
       "      <td>10000.0</td>\n",
       "      <td>1568.691398</td>\n",
       "      <td>5887.278645</td>\n",
       "      <td>6679.036477</td>\n",
       "      <td>1875.281165</td>\n",
       "      <td>4569.609160</td>\n",
       "      <td>2663.180717</td>\n",
       "    </tr>\n",
       "    <tr>\n",
       "      <th>45</th>\n",
       "      <td>10000.0</td>\n",
       "      <td>3112.596820</td>\n",
       "      <td>3126.283566</td>\n",
       "      <td>3810.802265</td>\n",
       "      <td>1297.798035</td>\n",
       "      <td>3691.008938</td>\n",
       "      <td>2690.728223</td>\n",
       "    </tr>\n",
       "    <tr>\n",
       "      <th>46</th>\n",
       "      <td>10000.0</td>\n",
       "      <td>1910.640033</td>\n",
       "      <td>8448.095478</td>\n",
       "      <td>8481.157837</td>\n",
       "      <td>1944.536522</td>\n",
       "      <td>8140.269907</td>\n",
       "      <td>2331.462824</td>\n",
       "    </tr>\n",
       "    <tr>\n",
       "      <th>47</th>\n",
       "      <td>1000.0</td>\n",
       "      <td>2149.490420</td>\n",
       "      <td>1362.692293</td>\n",
       "      <td>1511.454770</td>\n",
       "      <td>3043.033029</td>\n",
       "      <td>1318.630601</td>\n",
       "      <td>3478.127790</td>\n",
       "    </tr>\n",
       "    <tr>\n",
       "      <th>48</th>\n",
       "      <td>1000.0</td>\n",
       "      <td>1613.452915</td>\n",
       "      <td>2393.575387</td>\n",
       "      <td>2809.106327</td>\n",
       "      <td>1114.004972</td>\n",
       "      <td>1807.092364</td>\n",
       "      <td>1342.048208</td>\n",
       "    </tr>\n",
       "    <tr>\n",
       "      <th>49</th>\n",
       "      <td>10000.0</td>\n",
       "      <td>8469.669792</td>\n",
       "      <td>2346.495137</td>\n",
       "      <td>2519.359568</td>\n",
       "      <td>1270.095892</td>\n",
       "      <td>2358.649296</td>\n",
       "      <td>2463.461293</td>\n",
       "    </tr>\n",
       "    <tr>\n",
       "      <th>...</th>\n",
       "      <td>...</td>\n",
       "      <td>...</td>\n",
       "      <td>...</td>\n",
       "      <td>...</td>\n",
       "      <td>...</td>\n",
       "      <td>...</td>\n",
       "      <td>...</td>\n",
       "    </tr>\n",
       "    <tr>\n",
       "      <th>364</th>\n",
       "      <td>1000.0</td>\n",
       "      <td>2721.117000</td>\n",
       "      <td>1514.395319</td>\n",
       "      <td>1367.098796</td>\n",
       "      <td>2595.004143</td>\n",
       "      <td>1117.777648</td>\n",
       "      <td>1781.660502</td>\n",
       "    </tr>\n",
       "    <tr>\n",
       "      <th>365</th>\n",
       "      <td>1000.0</td>\n",
       "      <td>1614.370159</td>\n",
       "      <td>1392.684155</td>\n",
       "      <td>1342.780764</td>\n",
       "      <td>3917.781461</td>\n",
       "      <td>1161.944266</td>\n",
       "      <td>2144.369341</td>\n",
       "    </tr>\n",
       "    <tr>\n",
       "      <th>366</th>\n",
       "      <td>1000.0</td>\n",
       "      <td>1485.038728</td>\n",
       "      <td>1943.697446</td>\n",
       "      <td>1597.602691</td>\n",
       "      <td>1469.870960</td>\n",
       "      <td>1048.372963</td>\n",
       "      <td>3093.610509</td>\n",
       "    </tr>\n",
       "    <tr>\n",
       "      <th>367</th>\n",
       "      <td>1000.0</td>\n",
       "      <td>1094.476152</td>\n",
       "      <td>2438.563181</td>\n",
       "      <td>1930.552761</td>\n",
       "      <td>1337.753048</td>\n",
       "      <td>1062.569375</td>\n",
       "      <td>1747.226119</td>\n",
       "    </tr>\n",
       "    <tr>\n",
       "      <th>368</th>\n",
       "      <td>1000.0</td>\n",
       "      <td>5334.712597</td>\n",
       "      <td>3327.856783</td>\n",
       "      <td>1993.158757</td>\n",
       "      <td>5578.844560</td>\n",
       "      <td>1200.852953</td>\n",
       "      <td>1936.615228</td>\n",
       "    </tr>\n",
       "    <tr>\n",
       "      <th>369</th>\n",
       "      <td>1000.0</td>\n",
       "      <td>3269.995923</td>\n",
       "      <td>1282.481497</td>\n",
       "      <td>1828.106585</td>\n",
       "      <td>1731.443116</td>\n",
       "      <td>1076.765788</td>\n",
       "      <td>1515.367938</td>\n",
       "    </tr>\n",
       "    <tr>\n",
       "      <th>370</th>\n",
       "      <td>1000.0</td>\n",
       "      <td>2760.925397</td>\n",
       "      <td>1439.764405</td>\n",
       "      <td>1325.965104</td>\n",
       "      <td>2542.796259</td>\n",
       "      <td>1440.614594</td>\n",
       "      <td>1329.422268</td>\n",
       "    </tr>\n",
       "    <tr>\n",
       "      <th>371</th>\n",
       "      <td>10000.0</td>\n",
       "      <td>1827.721158</td>\n",
       "      <td>5162.591545</td>\n",
       "      <td>3416.798413</td>\n",
       "      <td>2395.229075</td>\n",
       "      <td>2774.551615</td>\n",
       "      <td>3536.666242</td>\n",
       "    </tr>\n",
       "    <tr>\n",
       "      <th>372</th>\n",
       "      <td>1000.0</td>\n",
       "      <td>3115.532002</td>\n",
       "      <td>1561.824311</td>\n",
       "      <td>1368.651010</td>\n",
       "      <td>4629.513437</td>\n",
       "      <td>1032.073377</td>\n",
       "      <td>1849.381456</td>\n",
       "    </tr>\n",
       "    <tr>\n",
       "      <th>373</th>\n",
       "      <td>1000.0</td>\n",
       "      <td>3098.471260</td>\n",
       "      <td>1340.721510</td>\n",
       "      <td>1149.788726</td>\n",
       "      <td>3858.115307</td>\n",
       "      <td>1037.331308</td>\n",
       "      <td>1280.066318</td>\n",
       "    </tr>\n",
       "    <tr>\n",
       "      <th>374</th>\n",
       "      <td>1000.0</td>\n",
       "      <td>2762.759886</td>\n",
       "      <td>1182.043632</td>\n",
       "      <td>1241.110696</td>\n",
       "      <td>1839.588019</td>\n",
       "      <td>1245.019571</td>\n",
       "      <td>1426.986354</td>\n",
       "    </tr>\n",
       "    <tr>\n",
       "      <th>375</th>\n",
       "      <td>1000.0</td>\n",
       "      <td>1815.063188</td>\n",
       "      <td>1296.779943</td>\n",
       "      <td>1319.497542</td>\n",
       "      <td>2891.736711</td>\n",
       "      <td>1078.868961</td>\n",
       "      <td>2160.438720</td>\n",
       "    </tr>\n",
       "    <tr>\n",
       "      <th>376</th>\n",
       "      <td>1000.0</td>\n",
       "      <td>5983.204240</td>\n",
       "      <td>1957.647150</td>\n",
       "      <td>1549.742735</td>\n",
       "      <td>8031.016929</td>\n",
       "      <td>1046.795583</td>\n",
       "      <td>3179.696467</td>\n",
       "    </tr>\n",
       "    <tr>\n",
       "      <th>377</th>\n",
       "      <td>1000.0</td>\n",
       "      <td>5867.998369</td>\n",
       "      <td>2638.392684</td>\n",
       "      <td>2316.278134</td>\n",
       "      <td>1103.883035</td>\n",
       "      <td>1003.680551</td>\n",
       "      <td>1386.812907</td>\n",
       "    </tr>\n",
       "    <tr>\n",
       "      <th>378</th>\n",
       "      <td>1000.0</td>\n",
       "      <td>5696.840603</td>\n",
       "      <td>4819.080095</td>\n",
       "      <td>2190.290034</td>\n",
       "      <td>1054.338819</td>\n",
       "      <td>1330.723842</td>\n",
       "      <td>1327.126642</td>\n",
       "    </tr>\n",
       "    <tr>\n",
       "      <th>379</th>\n",
       "      <td>1000.0</td>\n",
       "      <td>4314.920506</td>\n",
       "      <td>2589.568722</td>\n",
       "      <td>1890.195177</td>\n",
       "      <td>3290.221380</td>\n",
       "      <td>1478.997488</td>\n",
       "      <td>1817.242699</td>\n",
       "    </tr>\n",
       "    <tr>\n",
       "      <th>380</th>\n",
       "      <td>1000.0</td>\n",
       "      <td>2262.311455</td>\n",
       "      <td>1345.603906</td>\n",
       "      <td>1301.129667</td>\n",
       "      <td>2088.907304</td>\n",
       "      <td>1310.217912</td>\n",
       "      <td>1430.429792</td>\n",
       "    </tr>\n",
       "    <tr>\n",
       "      <th>381</th>\n",
       "      <td>1000.0</td>\n",
       "      <td>5597.778231</td>\n",
       "      <td>2728.019530</td>\n",
       "      <td>2299.462474</td>\n",
       "      <td>6210.666509</td>\n",
       "      <td>1572.588655</td>\n",
       "      <td>2098.456829</td>\n",
       "    </tr>\n",
       "    <tr>\n",
       "      <th>382</th>\n",
       "      <td>10000.0</td>\n",
       "      <td>2350.000000</td>\n",
       "      <td>5460.068974</td>\n",
       "      <td>5832.562017</td>\n",
       "      <td>2507.103114</td>\n",
       "      <td>5143.249401</td>\n",
       "      <td>1631.297028</td>\n",
       "    </tr>\n",
       "    <tr>\n",
       "      <th>383</th>\n",
       "      <td>10000.0</td>\n",
       "      <td>2514.186710</td>\n",
       "      <td>2333.940404</td>\n",
       "      <td>2656.730576</td>\n",
       "      <td>1863.561028</td>\n",
       "      <td>2433.837705</td>\n",
       "      <td>1391.404158</td>\n",
       "    </tr>\n",
       "    <tr>\n",
       "      <th>384</th>\n",
       "      <td>1000.0</td>\n",
       "      <td>2596.922136</td>\n",
       "      <td>2248.149727</td>\n",
       "      <td>2577.308919</td>\n",
       "      <td>2238.072689</td>\n",
       "      <td>2114.681311</td>\n",
       "      <td>6892.870807</td>\n",
       "    </tr>\n",
       "    <tr>\n",
       "      <th>385</th>\n",
       "      <td>1000.0</td>\n",
       "      <td>2216.265797</td>\n",
       "      <td>1711.783625</td>\n",
       "      <td>2179.683233</td>\n",
       "      <td>1726.648514</td>\n",
       "      <td>1976.397733</td>\n",
       "      <td>3168.218339</td>\n",
       "    </tr>\n",
       "    <tr>\n",
       "      <th>386</th>\n",
       "      <td>1000.0</td>\n",
       "      <td>1389.461883</td>\n",
       "      <td>2127.833534</td>\n",
       "      <td>1848.026675</td>\n",
       "      <td>1804.427607</td>\n",
       "      <td>1121.983993</td>\n",
       "      <td>6006.759342</td>\n",
       "    </tr>\n",
       "    <tr>\n",
       "      <th>387</th>\n",
       "      <td>1000.0</td>\n",
       "      <td>1017.244191</td>\n",
       "      <td>2238.036192</td>\n",
       "      <td>4207.134439</td>\n",
       "      <td>1038.889547</td>\n",
       "      <td>2560.028042</td>\n",
       "      <td>1067.720954</td>\n",
       "    </tr>\n",
       "    <tr>\n",
       "      <th>388</th>\n",
       "      <td>1000.0</td>\n",
       "      <td>2094.455768</td>\n",
       "      <td>1674.816910</td>\n",
       "      <td>1883.210210</td>\n",
       "      <td>4012.075293</td>\n",
       "      <td>1595.197757</td>\n",
       "      <td>1329.422268</td>\n",
       "    </tr>\n",
       "    <tr>\n",
       "      <th>389</th>\n",
       "      <td>10000.0</td>\n",
       "      <td>2438.055442</td>\n",
       "      <td>3089.316852</td>\n",
       "      <td>3211.647360</td>\n",
       "      <td>1887.534036</td>\n",
       "      <td>2859.730093</td>\n",
       "      <td>3147.557709</td>\n",
       "    </tr>\n",
       "    <tr>\n",
       "      <th>390</th>\n",
       "      <td>10000.0</td>\n",
       "      <td>1804.606604</td>\n",
       "      <td>4796.063084</td>\n",
       "      <td>3821.150364</td>\n",
       "      <td>1438.439683</td>\n",
       "      <td>4535.958404</td>\n",
       "      <td>2136.334651</td>\n",
       "    </tr>\n",
       "    <tr>\n",
       "      <th>391</th>\n",
       "      <td>1000.0</td>\n",
       "      <td>1928.618019</td>\n",
       "      <td>2898.554656</td>\n",
       "      <td>3859.179626</td>\n",
       "      <td>1180.596662</td>\n",
       "      <td>2830.811474</td>\n",
       "      <td>2216.681546</td>\n",
       "    </tr>\n",
       "    <tr>\n",
       "      <th>392</th>\n",
       "      <td>10000.0</td>\n",
       "      <td>1120.525887</td>\n",
       "      <td>3943.038710</td>\n",
       "      <td>5816.781166</td>\n",
       "      <td>1057.535220</td>\n",
       "      <td>4542.267921</td>\n",
       "      <td>1887.259278</td>\n",
       "    </tr>\n",
       "    <tr>\n",
       "      <th>393</th>\n",
       "      <td>1000.0</td>\n",
       "      <td>2624.989808</td>\n",
       "      <td>2300.112373</td>\n",
       "      <td>1574.319469</td>\n",
       "      <td>1323.901977</td>\n",
       "      <td>1829.175673</td>\n",
       "      <td>2742.379798</td>\n",
       "    </tr>\n",
       "    <tr>\n",
       "      <th>394</th>\n",
       "      <td>1000.0</td>\n",
       "      <td>1816.897676</td>\n",
       "      <td>2817.297632</td>\n",
       "      <td>4421.081376</td>\n",
       "      <td>1000.000000</td>\n",
       "      <td>4583.279780</td>\n",
       "      <td>2595.459763</td>\n",
       "    </tr>\n",
       "    <tr>\n",
       "      <th>395</th>\n",
       "      <td>10000.0</td>\n",
       "      <td>4129.637179</td>\n",
       "      <td>2671.174488</td>\n",
       "      <td>3341.257294</td>\n",
       "      <td>1535.929916</td>\n",
       "      <td>2794.005959</td>\n",
       "      <td>3044.254559</td>\n",
       "    </tr>\n",
       "    <tr>\n",
       "      <th>396</th>\n",
       "      <td>1000.0</td>\n",
       "      <td>5842.498981</td>\n",
       "      <td>1461.037703</td>\n",
       "      <td>2078.530570</td>\n",
       "      <td>1428.850479</td>\n",
       "      <td>1496.874452</td>\n",
       "      <td>2394.592526</td>\n",
       "    </tr>\n",
       "    <tr>\n",
       "      <th>397</th>\n",
       "      <td>10000.0</td>\n",
       "      <td>4221.728496</td>\n",
       "      <td>2266.284341</td>\n",
       "      <td>2204.001265</td>\n",
       "      <td>1550.846454</td>\n",
       "      <td>1946.427528</td>\n",
       "      <td>1763.295498</td>\n",
       "    </tr>\n",
       "    <tr>\n",
       "      <th>398</th>\n",
       "      <td>10000.0</td>\n",
       "      <td>4114.410925</td>\n",
       "      <td>1986.592785</td>\n",
       "      <td>4163.672425</td>\n",
       "      <td>1452.290754</td>\n",
       "      <td>2687.795759</td>\n",
       "      <td>1282.361944</td>\n",
       "    </tr>\n",
       "    <tr>\n",
       "      <th>399</th>\n",
       "      <td>1000.0</td>\n",
       "      <td>3061.964941</td>\n",
       "      <td>1820.591312</td>\n",
       "      <td>1670.039380</td>\n",
       "      <td>9163.075648</td>\n",
       "      <td>1055.208272</td>\n",
       "      <td>3161.331463</td>\n",
       "    </tr>\n",
       "    <tr>\n",
       "      <th>400</th>\n",
       "      <td>1000.0</td>\n",
       "      <td>3408.866694</td>\n",
       "      <td>4240.516139</td>\n",
       "      <td>4702.808359</td>\n",
       "      <td>2659.997632</td>\n",
       "      <td>3668.925629</td>\n",
       "      <td>3170.513965</td>\n",
       "    </tr>\n",
       "    <tr>\n",
       "      <th>401</th>\n",
       "      <td>1000.0</td>\n",
       "      <td>6688.565022</td>\n",
       "      <td>6800.286744</td>\n",
       "      <td>2403.719567</td>\n",
       "      <td>9021.368533</td>\n",
       "      <td>1229.245779</td>\n",
       "      <td>2331.462824</td>\n",
       "    </tr>\n",
       "    <tr>\n",
       "      <th>402</th>\n",
       "      <td>1000.0</td>\n",
       "      <td>1558.418263</td>\n",
       "      <td>3062.812415</td>\n",
       "      <td>2269.452988</td>\n",
       "      <td>2157.629928</td>\n",
       "      <td>1445.346731</td>\n",
       "      <td>1360.413213</td>\n",
       "    </tr>\n",
       "    <tr>\n",
       "      <th>403</th>\n",
       "      <td>1000.0</td>\n",
       "      <td>2578.393804</td>\n",
       "      <td>1591.118689</td>\n",
       "      <td>1925.378712</td>\n",
       "      <td>1011.720137</td>\n",
       "      <td>1042.589239</td>\n",
       "      <td>3867.236322</td>\n",
       "    </tr>\n",
       "    <tr>\n",
       "      <th>404</th>\n",
       "      <td>1000.0</td>\n",
       "      <td>1567.590705</td>\n",
       "      <td>2456.000310</td>\n",
       "      <td>5263.416597</td>\n",
       "      <td>1293.003433</td>\n",
       "      <td>1125.138751</td>\n",
       "      <td>3384.007142</td>\n",
       "    </tr>\n",
       "    <tr>\n",
       "      <th>405</th>\n",
       "      <td>1000.0</td>\n",
       "      <td>2564.818589</td>\n",
       "      <td>2900.995854</td>\n",
       "      <td>2334.128604</td>\n",
       "      <td>8171.125843</td>\n",
       "      <td>1722.439680</td>\n",
       "      <td>2715.980105</td>\n",
       "    </tr>\n",
       "    <tr>\n",
       "      <th>406</th>\n",
       "      <td>1000.0</td>\n",
       "      <td>4873.338769</td>\n",
       "      <td>1386.058046</td>\n",
       "      <td>2229.095404</td>\n",
       "      <td>1129.986978</td>\n",
       "      <td>1696.675819</td>\n",
       "      <td>1449.942609</td>\n",
       "    </tr>\n",
       "    <tr>\n",
       "      <th>407</th>\n",
       "      <td>1000.0</td>\n",
       "      <td>1363.045251</td>\n",
       "      <td>2103.072810</td>\n",
       "      <td>1385.466670</td>\n",
       "      <td>1807.624009</td>\n",
       "      <td>1185.604954</td>\n",
       "      <td>2659.737278</td>\n",
       "    </tr>\n",
       "    <tr>\n",
       "      <th>408</th>\n",
       "      <td>1000.0</td>\n",
       "      <td>4068.732165</td>\n",
       "      <td>2348.587593</td>\n",
       "      <td>3067.291385</td>\n",
       "      <td>1353.202320</td>\n",
       "      <td>2245.077993</td>\n",
       "      <td>1958.423670</td>\n",
       "    </tr>\n",
       "    <tr>\n",
       "      <th>409</th>\n",
       "      <td>1000.0</td>\n",
       "      <td>6448.430493</td>\n",
       "      <td>5183.516100</td>\n",
       "      <td>5145.448274</td>\n",
       "      <td>7984.136380</td>\n",
       "      <td>1094.116960</td>\n",
       "      <td>3526.335927</td>\n",
       "    </tr>\n",
       "    <tr>\n",
       "      <th>410</th>\n",
       "      <td>1000.0</td>\n",
       "      <td>8195.780677</td>\n",
       "      <td>1479.869803</td>\n",
       "      <td>1196.872575</td>\n",
       "      <td>3389.309814</td>\n",
       "      <td>1047.321376</td>\n",
       "      <td>3689.325341</td>\n",
       "    </tr>\n",
       "    <tr>\n",
       "      <th>411</th>\n",
       "      <td>10000.0</td>\n",
       "      <td>3665.144721</td>\n",
       "      <td>6382.144379</td>\n",
       "      <td>8823.162494</td>\n",
       "      <td>1219.486208</td>\n",
       "      <td>8801.717591</td>\n",
       "      <td>3139.523020</td>\n",
       "    </tr>\n",
       "    <tr>\n",
       "      <th>412</th>\n",
       "      <td>1000.0</td>\n",
       "      <td>2887.138198</td>\n",
       "      <td>1671.678227</td>\n",
       "      <td>1576.647791</td>\n",
       "      <td>1539.659051</td>\n",
       "      <td>1086.755857</td>\n",
       "      <td>3435.658717</td>\n",
       "    </tr>\n",
       "    <tr>\n",
       "      <th>413</th>\n",
       "      <td>1000.0</td>\n",
       "      <td>1510.721565</td>\n",
       "      <td>1572.984074</td>\n",
       "      <td>1648.567076</td>\n",
       "      <td>1021.309341</td>\n",
       "      <td>1249.225916</td>\n",
       "      <td>1056.242826</td>\n",
       "    </tr>\n",
       "  </tbody>\n",
       "</table>\n",
       "<p>414 rows × 7 columns</p>\n",
       "</div>"
      ],
      "text/plain": [
       "     Channel        Fresh         Milk      Grocery       Frozen  \\\n",
       "0    10000.0  3323.562984  4348.277599  2955.273219  1100.686634   \n",
       "1    10000.0  2294.048104  4401.983958  3474.489063  1925.358115   \n",
       "2    10000.0  2164.900122  4052.543883  2987.093622  2267.905765   \n",
       "3     1000.0  3432.898492  1397.915294  2091.206991  4398.307091   \n",
       "4    10000.0  5148.145128  2867.516565  2861.364224  3072.333373   \n",
       "5    10000.0  2726.253567  3861.084202  2325.332720  1341.482183   \n",
       "6    10000.0  3223.950265  2096.446701  2803.673575  1242.393749   \n",
       "7    10000.0  2389.808398  2709.187430  3437.753313  1875.813898   \n",
       "8     1000.0  2093.355075  2253.032123  2601.109546  1213.093406   \n",
       "9    10000.0  2101.243375  4849.420700  5883.785104  1604.119806   \n",
       "10   10000.0  1616.938443  2865.075367  4355.629653  3330.709128   \n",
       "11   10000.0  3411.068080  1372.805828  2169.335135  1743.163253   \n",
       "12   10000.0  6817.346107  5276.979114  4040.788755  1139.576181   \n",
       "13   10000.0  4891.683653  3145.813151  4875.104200  2635.491891   \n",
       "14   10000.0  5522.013861  4281.667765  4127.195378  1143.305315   \n",
       "15    1000.0  2880.350591  1369.318402  1987.726005  1198.176868   \n",
       "16   10000.0  1186.567468  4055.333824  4134.956452  1058.067953   \n",
       "17    1000.0  2077.395026  3128.027279  1757.998218  1433.645081   \n",
       "18   10000.0  4411.781492  3187.313520  3611.860071  2161.359062   \n",
       "19    1000.0  2426.681614  1850.931918  3447.584006  1343.080384   \n",
       "20   10000.0  4218.242968  2556.786918  2189.772629  1554.575589   \n",
       "21    1000.0  2020.709336  1284.573953  1519.215844  2788.919143   \n",
       "22    1000.0  6736.995516  1649.358701  2155.365202  5998.638570   \n",
       "23   10000.0  5154.015491  4390.126710  4567.248268  2539.599858   \n",
       "24   10000.0  3964.900122  2456.000310  2964.069102  1093.761099   \n",
       "25    1000.0  2815.226254  1315.960786  1739.371640  2665.324967   \n",
       "26    1000.0  3618.365267  1260.859457  1786.972894  1245.057417   \n",
       "27   10000.0  1753.974725  8124.462355  7714.363736  1603.587072   \n",
       "28    1000.0  8903.893192  1713.178595  1674.178620  1625.961880   \n",
       "29    1000.0  4451.039543  2239.779905  3872.632154  1598.259737   \n",
       "30    1000.0  1478.618019  2494.013252  1809.738711  2099.029241   \n",
       "31    1000.0  4967.814921  1440.461890  1745.839202  1128.388777   \n",
       "32    1000.0  6453.200163  2649.901190  2894.478140  4252.338108   \n",
       "33    1000.0  1274.989808  1670.980742  1584.408865  1213.093406   \n",
       "34   10000.0  1125.662454  2895.764715  3868.492914  1430.448680   \n",
       "35    1000.0  6494.659600  2502.034332  2403.460864  1907.777909   \n",
       "36   10000.0  3782.001631  4662.145929  4227.054529  2009.530011   \n",
       "37   10000.0  1841.663269  6466.191343  5321.883354  1004.261868   \n",
       "38    1000.0  5406.807990  2491.572054  2229.871511  6052.977388   \n",
       "39    1000.0  4517.264574  2049.715194  2540.055765  2069.728898   \n",
       "40   10000.0  2989.869547  3615.569419  4869.671448  1086.835563   \n",
       "41   10000.0  1115.022422  4850.118185  7207.565610  1405.942938   \n",
       "42   10000.0  2773.399918  3431.433332  3708.097387  1274.890494   \n",
       "43   10000.0  1949.898084  8668.500794  6569.346633  1913.637978   \n",
       "44   10000.0  1568.691398  5887.278645  6679.036477  1875.281165   \n",
       "45   10000.0  3112.596820  3126.283566  3810.802265  1297.798035   \n",
       "46   10000.0  1910.640033  8448.095478  8481.157837  1944.536522   \n",
       "47    1000.0  2149.490420  1362.692293  1511.454770  3043.033029   \n",
       "48    1000.0  1613.452915  2393.575387  2809.106327  1114.004972   \n",
       "49   10000.0  8469.669792  2346.495137  2519.359568  1270.095892   \n",
       "..       ...          ...          ...          ...          ...   \n",
       "364   1000.0  2721.117000  1514.395319  1367.098796  2595.004143   \n",
       "365   1000.0  1614.370159  1392.684155  1342.780764  3917.781461   \n",
       "366   1000.0  1485.038728  1943.697446  1597.602691  1469.870960   \n",
       "367   1000.0  1094.476152  2438.563181  1930.552761  1337.753048   \n",
       "368   1000.0  5334.712597  3327.856783  1993.158757  5578.844560   \n",
       "369   1000.0  3269.995923  1282.481497  1828.106585  1731.443116   \n",
       "370   1000.0  2760.925397  1439.764405  1325.965104  2542.796259   \n",
       "371  10000.0  1827.721158  5162.591545  3416.798413  2395.229075   \n",
       "372   1000.0  3115.532002  1561.824311  1368.651010  4629.513437   \n",
       "373   1000.0  3098.471260  1340.721510  1149.788726  3858.115307   \n",
       "374   1000.0  2762.759886  1182.043632  1241.110696  1839.588019   \n",
       "375   1000.0  1815.063188  1296.779943  1319.497542  2891.736711   \n",
       "376   1000.0  5983.204240  1957.647150  1549.742735  8031.016929   \n",
       "377   1000.0  5867.998369  2638.392684  2316.278134  1103.883035   \n",
       "378   1000.0  5696.840603  4819.080095  2190.290034  1054.338819   \n",
       "379   1000.0  4314.920506  2589.568722  1890.195177  3290.221380   \n",
       "380   1000.0  2262.311455  1345.603906  1301.129667  2088.907304   \n",
       "381   1000.0  5597.778231  2728.019530  2299.462474  6210.666509   \n",
       "382  10000.0  2350.000000  5460.068974  5832.562017  2507.103114   \n",
       "383  10000.0  2514.186710  2333.940404  2656.730576  1863.561028   \n",
       "384   1000.0  2596.922136  2248.149727  2577.308919  2238.072689   \n",
       "385   1000.0  2216.265797  1711.783625  2179.683233  1726.648514   \n",
       "386   1000.0  1389.461883  2127.833534  1848.026675  1804.427607   \n",
       "387   1000.0  1017.244191  2238.036192  4207.134439  1038.889547   \n",
       "388   1000.0  2094.455768  1674.816910  1883.210210  4012.075293   \n",
       "389  10000.0  2438.055442  3089.316852  3211.647360  1887.534036   \n",
       "390  10000.0  1804.606604  4796.063084  3821.150364  1438.439683   \n",
       "391   1000.0  1928.618019  2898.554656  3859.179626  1180.596662   \n",
       "392  10000.0  1120.525887  3943.038710  5816.781166  1057.535220   \n",
       "393   1000.0  2624.989808  2300.112373  1574.319469  1323.901977   \n",
       "394   1000.0  1816.897676  2817.297632  4421.081376  1000.000000   \n",
       "395  10000.0  4129.637179  2671.174488  3341.257294  1535.929916   \n",
       "396   1000.0  5842.498981  1461.037703  2078.530570  1428.850479   \n",
       "397  10000.0  4221.728496  2266.284341  2204.001265  1550.846454   \n",
       "398  10000.0  4114.410925  1986.592785  4163.672425  1452.290754   \n",
       "399   1000.0  3061.964941  1820.591312  1670.039380  9163.075648   \n",
       "400   1000.0  3408.866694  4240.516139  4702.808359  2659.997632   \n",
       "401   1000.0  6688.565022  6800.286744  2403.719567  9021.368533   \n",
       "402   1000.0  1558.418263  3062.812415  2269.452988  2157.629928   \n",
       "403   1000.0  2578.393804  1591.118689  1925.378712  1011.720137   \n",
       "404   1000.0  1567.590705  2456.000310  5263.416597  1293.003433   \n",
       "405   1000.0  2564.818589  2900.995854  2334.128604  8171.125843   \n",
       "406   1000.0  4873.338769  1386.058046  2229.095404  1129.986978   \n",
       "407   1000.0  1363.045251  2103.072810  1385.466670  1807.624009   \n",
       "408   1000.0  4068.732165  2348.587593  3067.291385  1353.202320   \n",
       "409   1000.0  6448.430493  5183.516100  5145.448274  7984.136380   \n",
       "410   1000.0  8195.780677  1479.869803  1196.872575  3389.309814   \n",
       "411  10000.0  3665.144721  6382.144379  8823.162494  1219.486208   \n",
       "412   1000.0  2887.138198  1671.678227  1576.647791  1539.659051   \n",
       "413   1000.0  1510.721565  1572.984074  1648.567076  1021.309341   \n",
       "\n",
       "     Detergents_Paper    Delicassen  \n",
       "0         2404.393293   2532.330060  \n",
       "1         2729.859204   3035.072057  \n",
       "2         2847.111059  10000.000000  \n",
       "3         1264.999708   3048.845810  \n",
       "4         1932.756908   6947.965821  \n",
       "5         1942.221184   2662.032904  \n",
       "6         2649.412864   1622.114526  \n",
       "7         2744.581410   3941.844153  \n",
       "8         1900.683531   1857.416146  \n",
       "9         4902.436175   3404.667772  \n",
       "10        4141.087807   2998.342048  \n",
       "11        1287.083017   1567.019513  \n",
       "12        3039.025530   4360.795817  \n",
       "13        4524.916749   1687.539855  \n",
       "14        3657.883975   3485.014666  \n",
       "15        1505.287141   1469.455427  \n",
       "16        3368.697786   2236.194363  \n",
       "17        1192.966057   6136.462186  \n",
       "18        2453.292049   4647.749012  \n",
       "19        2322.369574   1571.610764  \n",
       "20        2186.189169   3434.510904  \n",
       "21        1195.595022   1649.662033  \n",
       "22        2250.335923   5971.177146  \n",
       "23        3355.027166   7628.618799  \n",
       "24        3103.172285   1061.981890  \n",
       "25        1125.664544   1952.684607  \n",
       "26        1051.001928   1591.123581  \n",
       "27        5522.346206   6972.069889  \n",
       "28        1580.475551   1941.206479  \n",
       "29        2120.465035   4397.525826  \n",
       "30        1429.572939   2127.152149  \n",
       "31        1481.100660   1461.420737  \n",
       "32        1188.233919   2239.637801  \n",
       "33        1252.380674   1449.942609  \n",
       "34        3227.259450   1497.002933  \n",
       "35        1451.656248   6306.338477  \n",
       "36        4419.232342   1816.094886  \n",
       "37        4655.839224   1493.559495  \n",
       "38        1600.455687   7727.330698  \n",
       "39        2352.339779   4212.727968  \n",
       "40        4625.869019   1049.355949  \n",
       "41        6008.704796   1079.199082  \n",
       "42        3426.535024   1071.164392  \n",
       "43        4864.579073   6718.403265  \n",
       "44        4569.609160   2663.180717  \n",
       "45        3691.008938   2690.728223  \n",
       "46        8140.269907   2331.462824  \n",
       "47        1318.630601   3478.127790  \n",
       "48        1807.092364   1342.048208  \n",
       "49        2358.649296   2463.461293  \n",
       "..                ...           ...  \n",
       "364       1117.777648   1781.660502  \n",
       "365       1161.944266   2144.369341  \n",
       "366       1048.372963   3093.610509  \n",
       "367       1062.569375   1747.226119  \n",
       "368       1200.852953   1936.615228  \n",
       "369       1076.765788   1515.367938  \n",
       "370       1440.614594   1329.422268  \n",
       "371       2774.551615   3536.666242  \n",
       "372       1032.073377   1849.381456  \n",
       "373       1037.331308   1280.066318  \n",
       "374       1245.019571   1426.986354  \n",
       "375       1078.868961   2160.438720  \n",
       "376       1046.795583   3179.696467  \n",
       "377       1003.680551   1386.812907  \n",
       "378       1330.723842   1327.126642  \n",
       "379       1478.997488   1817.242699  \n",
       "380       1310.217912   1430.429792  \n",
       "381       1572.588655   2098.456829  \n",
       "382       5143.249401   1631.297028  \n",
       "383       2433.837705   1391.404158  \n",
       "384       2114.681311   6892.870807  \n",
       "385       1976.397733   3168.218339  \n",
       "386       1121.983993   6006.759342  \n",
       "387       2560.028042   1067.720954  \n",
       "388       1595.197757   1329.422268  \n",
       "389       2859.730093   3147.557709  \n",
       "390       4535.958404   2136.334651  \n",
       "391       2830.811474   2216.681546  \n",
       "392       4542.267921   1887.259278  \n",
       "393       1829.175673   2742.379798  \n",
       "394       4583.279780   2595.459763  \n",
       "395       2794.005959   3044.254559  \n",
       "396       1496.874452   2394.592526  \n",
       "397       1946.427528   1763.295498  \n",
       "398       2687.795759   1282.361944  \n",
       "399       1055.208272   3161.331463  \n",
       "400       3668.925629   3170.513965  \n",
       "401       1229.245779   2331.462824  \n",
       "402       1445.346731   1360.413213  \n",
       "403       1042.589239   3867.236322  \n",
       "404       1125.138751   3384.007142  \n",
       "405       1722.439680   2715.980105  \n",
       "406       1696.675819   1449.942609  \n",
       "407       1185.604954   2659.737278  \n",
       "408       2245.077993   1958.423670  \n",
       "409       1094.116960   3526.335927  \n",
       "410       1047.321376   3689.325341  \n",
       "411       8801.717591   3139.523020  \n",
       "412       1086.755857   3435.658717  \n",
       "413       1249.225916   1056.242826  \n",
       "\n",
       "[414 rows x 7 columns]"
      ]
     },
     "execution_count": 147,
     "metadata": {},
     "output_type": "execute_result"
    }
   ],
   "source": [
    "df1scaled"
   ]
  },
  {
   "cell_type": "code",
   "execution_count": 49,
   "metadata": {
    "collapsed": true
   },
   "outputs": [],
   "source": [
    "df1scaled = pd.DataFrame(data=df1scaled,columns=df1.columns)"
   ]
  },
  {
   "cell_type": "code",
   "execution_count": 142,
   "metadata": {},
   "outputs": [
    {
     "data": {
      "text/html": [
       "<div>\n",
       "<style>\n",
       "    .dataframe thead tr:only-child th {\n",
       "        text-align: right;\n",
       "    }\n",
       "\n",
       "    .dataframe thead th {\n",
       "        text-align: left;\n",
       "    }\n",
       "\n",
       "    .dataframe tbody tr th {\n",
       "        vertical-align: top;\n",
       "    }\n",
       "</style>\n",
       "<table border=\"1\" class=\"dataframe\">\n",
       "  <thead>\n",
       "    <tr style=\"text-align: right;\">\n",
       "      <th></th>\n",
       "      <th>Channel</th>\n",
       "      <th>Fresh</th>\n",
       "      <th>Milk</th>\n",
       "      <th>Grocery</th>\n",
       "      <th>Frozen</th>\n",
       "      <th>Detergents_Paper</th>\n",
       "      <th>Delicassen</th>\n",
       "    </tr>\n",
       "  </thead>\n",
       "  <tbody>\n",
       "    <tr>\n",
       "      <th>count</th>\n",
       "      <td>414.000000</td>\n",
       "      <td>414.000000</td>\n",
       "      <td>414.000000</td>\n",
       "      <td>414.000000</td>\n",
       "      <td>414.000000</td>\n",
       "      <td>414.000000</td>\n",
       "      <td>414.000000</td>\n",
       "    </tr>\n",
       "    <tr>\n",
       "      <th>mean</th>\n",
       "      <td>3826.086957</td>\n",
       "      <td>2964.509297</td>\n",
       "      <td>2679.865254</td>\n",
       "      <td>2762.033726</td>\n",
       "      <td>2345.098080</td>\n",
       "      <td>2246.336594</td>\n",
       "      <td>2417.479470</td>\n",
       "    </tr>\n",
       "    <tr>\n",
       "      <th>std</th>\n",
       "      <td>4182.136073</td>\n",
       "      <td>1801.324089</td>\n",
       "      <td>1588.754598</td>\n",
       "      <td>1670.224681</td>\n",
       "      <td>1553.814938</td>\n",
       "      <td>1687.116386</td>\n",
       "      <td>1397.346316</td>\n",
       "    </tr>\n",
       "    <tr>\n",
       "      <th>min</th>\n",
       "      <td>1000.000000</td>\n",
       "      <td>1000.000000</td>\n",
       "      <td>1000.000000</td>\n",
       "      <td>1000.000000</td>\n",
       "      <td>1000.000000</td>\n",
       "      <td>1000.000000</td>\n",
       "      <td>1000.000000</td>\n",
       "    </tr>\n",
       "    <tr>\n",
       "      <th>25%</th>\n",
       "      <td>1000.000000</td>\n",
       "      <td>1561.399307</td>\n",
       "      <td>1496.173519</td>\n",
       "      <td>1546.638305</td>\n",
       "      <td>1347.209068</td>\n",
       "      <td>1131.316820</td>\n",
       "      <td>1449.942609</td>\n",
       "    </tr>\n",
       "    <tr>\n",
       "      <th>50%</th>\n",
       "      <td>1000.000000</td>\n",
       "      <td>2474.378312</td>\n",
       "      <td>2211.880498</td>\n",
       "      <td>2170.628647</td>\n",
       "      <td>1757.547058</td>\n",
       "      <td>1404.334872</td>\n",
       "      <td>2007.779620</td>\n",
       "    </tr>\n",
       "    <tr>\n",
       "      <th>75%</th>\n",
       "      <td>10000.000000</td>\n",
       "      <td>3871.708113</td>\n",
       "      <td>3390.107335</td>\n",
       "      <td>3524.742016</td>\n",
       "      <td>2693.693027</td>\n",
       "      <td>2923.088158</td>\n",
       "      <td>2926.890703</td>\n",
       "    </tr>\n",
       "    <tr>\n",
       "      <th>max</th>\n",
       "      <td>10000.000000</td>\n",
       "      <td>10000.000000</td>\n",
       "      <td>10000.000000</td>\n",
       "      <td>10000.000000</td>\n",
       "      <td>10000.000000</td>\n",
       "      <td>10000.000000</td>\n",
       "      <td>10000.000000</td>\n",
       "    </tr>\n",
       "  </tbody>\n",
       "</table>\n",
       "</div>"
      ],
      "text/plain": [
       "            Channel         Fresh          Milk       Grocery        Frozen  \\\n",
       "count    414.000000    414.000000    414.000000    414.000000    414.000000   \n",
       "mean    3826.086957   2964.509297   2679.865254   2762.033726   2345.098080   \n",
       "std     4182.136073   1801.324089   1588.754598   1670.224681   1553.814938   \n",
       "min     1000.000000   1000.000000   1000.000000   1000.000000   1000.000000   \n",
       "25%     1000.000000   1561.399307   1496.173519   1546.638305   1347.209068   \n",
       "50%     1000.000000   2474.378312   2211.880498   2170.628647   1757.547058   \n",
       "75%    10000.000000   3871.708113   3390.107335   3524.742016   2693.693027   \n",
       "max    10000.000000  10000.000000  10000.000000  10000.000000  10000.000000   \n",
       "\n",
       "       Detergents_Paper    Delicassen  \n",
       "count        414.000000    414.000000  \n",
       "mean        2246.336594   2417.479470  \n",
       "std         1687.116386   1397.346316  \n",
       "min         1000.000000   1000.000000  \n",
       "25%         1131.316820   1449.942609  \n",
       "50%         1404.334872   2007.779620  \n",
       "75%         2923.088158   2926.890703  \n",
       "max        10000.000000  10000.000000  "
      ]
     },
     "execution_count": 142,
     "metadata": {},
     "output_type": "execute_result"
    }
   ],
   "source": [
    "df1scaled.describe()"
   ]
  },
  {
   "cell_type": "code",
   "execution_count": null,
   "metadata": {
    "collapsed": true
   },
   "outputs": [],
   "source": [
    "#winsorizing (outlier handling)"
   ]
  },
  {
   "cell_type": "code",
   "execution_count": 19,
   "metadata": {
    "collapsed": true
   },
   "outputs": [],
   "source": [
    "from scipy.stats.mstats import winsorize"
   ]
  },
  {
   "cell_type": "code",
   "execution_count": 20,
   "metadata": {},
   "outputs": [
    {
     "ename": "NameError",
     "evalue": "name 'df1scale' is not defined",
     "traceback": [
      "\u001b[1;31m---------------------------------------------------------------------------\u001b[0m",
      "\u001b[1;31mNameError\u001b[0m                                 Traceback (most recent call last)",
      "\u001b[1;32m<ipython-input-20-eedda5472e69>\u001b[0m in \u001b[0;36m<module>\u001b[1;34m()\u001b[0m\n\u001b[1;32m----> 1\u001b[1;33m \u001b[0mdf1winsor\u001b[0m \u001b[1;33m=\u001b[0m \u001b[0mwinsorize\u001b[0m\u001b[1;33m(\u001b[0m\u001b[0mdf1scale\u001b[0m\u001b[1;33m)\u001b[0m\u001b[1;33m\u001b[0m\u001b[0m\n\u001b[0m",
      "\u001b[1;31mNameError\u001b[0m: name 'df1scale' is not defined"
     ],
     "output_type": "error"
    }
   ],
   "source": [
    "df1winsor = winsorize(df1scale)"
   ]
  },
  {
   "cell_type": "code",
   "execution_count": 149,
   "metadata": {
    "collapsed": true
   },
   "outputs": [],
   "source": [
    "df1win =pd.DataFrame(data=df1winsor,columns=df1.columns)"
   ]
  },
  {
   "cell_type": "code",
   "execution_count": 150,
   "metadata": {},
   "outputs": [
    {
     "data": {
      "text/html": [
       "<div>\n",
       "<style>\n",
       "    .dataframe thead tr:only-child th {\n",
       "        text-align: right;\n",
       "    }\n",
       "\n",
       "    .dataframe thead th {\n",
       "        text-align: left;\n",
       "    }\n",
       "\n",
       "    .dataframe tbody tr th {\n",
       "        vertical-align: top;\n",
       "    }\n",
       "</style>\n",
       "<table border=\"1\" class=\"dataframe\">\n",
       "  <thead>\n",
       "    <tr style=\"text-align: right;\">\n",
       "      <th></th>\n",
       "      <th>Channel</th>\n",
       "      <th>Fresh</th>\n",
       "      <th>Milk</th>\n",
       "      <th>Grocery</th>\n",
       "      <th>Frozen</th>\n",
       "      <th>Detergents_Paper</th>\n",
       "      <th>Delicassen</th>\n",
       "    </tr>\n",
       "  </thead>\n",
       "  <tbody>\n",
       "    <tr>\n",
       "      <th>count</th>\n",
       "      <td>414.000000</td>\n",
       "      <td>414.000000</td>\n",
       "      <td>414.000000</td>\n",
       "      <td>414.000000</td>\n",
       "      <td>414.000000</td>\n",
       "      <td>414.000000</td>\n",
       "      <td>414.000000</td>\n",
       "    </tr>\n",
       "    <tr>\n",
       "      <th>mean</th>\n",
       "      <td>3826.086957</td>\n",
       "      <td>2964.509297</td>\n",
       "      <td>2679.865254</td>\n",
       "      <td>2762.033726</td>\n",
       "      <td>2345.098080</td>\n",
       "      <td>2246.336594</td>\n",
       "      <td>2417.479470</td>\n",
       "    </tr>\n",
       "    <tr>\n",
       "      <th>std</th>\n",
       "      <td>4182.136073</td>\n",
       "      <td>1801.324089</td>\n",
       "      <td>1588.754598</td>\n",
       "      <td>1670.224681</td>\n",
       "      <td>1553.814938</td>\n",
       "      <td>1687.116386</td>\n",
       "      <td>1397.346316</td>\n",
       "    </tr>\n",
       "    <tr>\n",
       "      <th>min</th>\n",
       "      <td>1000.000000</td>\n",
       "      <td>1000.000000</td>\n",
       "      <td>1000.000000</td>\n",
       "      <td>1000.000000</td>\n",
       "      <td>1000.000000</td>\n",
       "      <td>1000.000000</td>\n",
       "      <td>1000.000000</td>\n",
       "    </tr>\n",
       "    <tr>\n",
       "      <th>25%</th>\n",
       "      <td>1000.000000</td>\n",
       "      <td>1561.399307</td>\n",
       "      <td>1496.173519</td>\n",
       "      <td>1546.638305</td>\n",
       "      <td>1347.209068</td>\n",
       "      <td>1131.316820</td>\n",
       "      <td>1449.942609</td>\n",
       "    </tr>\n",
       "    <tr>\n",
       "      <th>50%</th>\n",
       "      <td>1000.000000</td>\n",
       "      <td>2474.378312</td>\n",
       "      <td>2211.880498</td>\n",
       "      <td>2170.628647</td>\n",
       "      <td>1757.547058</td>\n",
       "      <td>1404.334872</td>\n",
       "      <td>2007.779620</td>\n",
       "    </tr>\n",
       "    <tr>\n",
       "      <th>75%</th>\n",
       "      <td>10000.000000</td>\n",
       "      <td>3871.708113</td>\n",
       "      <td>3390.107335</td>\n",
       "      <td>3524.742016</td>\n",
       "      <td>2693.693027</td>\n",
       "      <td>2923.088158</td>\n",
       "      <td>2926.890703</td>\n",
       "    </tr>\n",
       "    <tr>\n",
       "      <th>max</th>\n",
       "      <td>10000.000000</td>\n",
       "      <td>10000.000000</td>\n",
       "      <td>10000.000000</td>\n",
       "      <td>10000.000000</td>\n",
       "      <td>10000.000000</td>\n",
       "      <td>10000.000000</td>\n",
       "      <td>10000.000000</td>\n",
       "    </tr>\n",
       "  </tbody>\n",
       "</table>\n",
       "</div>"
      ],
      "text/plain": [
       "            Channel         Fresh          Milk       Grocery        Frozen  \\\n",
       "count    414.000000    414.000000    414.000000    414.000000    414.000000   \n",
       "mean    3826.086957   2964.509297   2679.865254   2762.033726   2345.098080   \n",
       "std     4182.136073   1801.324089   1588.754598   1670.224681   1553.814938   \n",
       "min     1000.000000   1000.000000   1000.000000   1000.000000   1000.000000   \n",
       "25%     1000.000000   1561.399307   1496.173519   1546.638305   1347.209068   \n",
       "50%     1000.000000   2474.378312   2211.880498   2170.628647   1757.547058   \n",
       "75%    10000.000000   3871.708113   3390.107335   3524.742016   2693.693027   \n",
       "max    10000.000000  10000.000000  10000.000000  10000.000000  10000.000000   \n",
       "\n",
       "       Detergents_Paper    Delicassen  \n",
       "count        414.000000    414.000000  \n",
       "mean        2246.336594   2417.479470  \n",
       "std         1687.116386   1397.346316  \n",
       "min         1000.000000   1000.000000  \n",
       "25%         1131.316820   1449.942609  \n",
       "50%         1404.334872   2007.779620  \n",
       "75%         2923.088158   2926.890703  \n",
       "max        10000.000000  10000.000000  "
      ]
     },
     "execution_count": 150,
     "metadata": {},
     "output_type": "execute_result"
    }
   ],
   "source": [
    "df1win.describe()          #scaled with outlier removal and then winsorized "
   ]
  },
  {
   "cell_type": "code",
   "execution_count": 21,
   "metadata": {
    "collapsed": true
   },
   "outputs": [],
   "source": [
    "df2winsor = winsorize(scaled)"
   ]
  },
  {
   "cell_type": "code",
   "execution_count": 22,
   "metadata": {
    "collapsed": true
   },
   "outputs": [],
   "source": [
    "df2win =pd.DataFrame(data=df2winsor,columns=df1.columns)"
   ]
  },
  {
   "cell_type": "code",
   "execution_count": 23,
   "metadata": {},
   "outputs": [
    {
     "data": {
      "text/html": [
       "<div>\n",
       "<style>\n",
       "    .dataframe thead tr:only-child th {\n",
       "        text-align: right;\n",
       "    }\n",
       "\n",
       "    .dataframe thead th {\n",
       "        text-align: left;\n",
       "    }\n",
       "\n",
       "    .dataframe tbody tr th {\n",
       "        vertical-align: top;\n",
       "    }\n",
       "</style>\n",
       "<table border=\"1\" class=\"dataframe\">\n",
       "  <thead>\n",
       "    <tr style=\"text-align: right;\">\n",
       "      <th></th>\n",
       "      <th>Channel</th>\n",
       "      <th>Fresh</th>\n",
       "      <th>Milk</th>\n",
       "      <th>Grocery</th>\n",
       "      <th>Frozen</th>\n",
       "      <th>Detergents_Paper</th>\n",
       "      <th>Delicassen</th>\n",
       "    </tr>\n",
       "  </thead>\n",
       "  <tbody>\n",
       "    <tr>\n",
       "      <th>count</th>\n",
       "      <td>440.000000</td>\n",
       "      <td>440.000000</td>\n",
       "      <td>440.000000</td>\n",
       "      <td>440.000000</td>\n",
       "      <td>440.000000</td>\n",
       "      <td>440.000000</td>\n",
       "      <td>440.000000</td>\n",
       "    </tr>\n",
       "    <tr>\n",
       "      <th>mean</th>\n",
       "      <td>3904.545455</td>\n",
       "      <td>1962.796301</td>\n",
       "      <td>1703.557768</td>\n",
       "      <td>1771.036954</td>\n",
       "      <td>1450.699927</td>\n",
       "      <td>1634.588444</td>\n",
       "      <td>1285.707845</td>\n",
       "    </tr>\n",
       "    <tr>\n",
       "      <th>std</th>\n",
       "      <td>4212.464125</td>\n",
       "      <td>1014.962013</td>\n",
       "      <td>904.421042</td>\n",
       "      <td>921.871428</td>\n",
       "      <td>718.099730</td>\n",
       "      <td>1051.114296</td>\n",
       "      <td>529.431653</td>\n",
       "    </tr>\n",
       "    <tr>\n",
       "      <th>min</th>\n",
       "      <td>1000.000000</td>\n",
       "      <td>1000.000000</td>\n",
       "      <td>1000.000000</td>\n",
       "      <td>1000.000000</td>\n",
       "      <td>1000.000000</td>\n",
       "      <td>1000.000000</td>\n",
       "      <td>1000.000000</td>\n",
       "    </tr>\n",
       "    <tr>\n",
       "      <th>25%</th>\n",
       "      <td>1000.000000</td>\n",
       "      <td>1250.764615</td>\n",
       "      <td>1181.120052</td>\n",
       "      <td>1208.564623</td>\n",
       "      <td>1106.095096</td>\n",
       "      <td>1055.941358</td>\n",
       "      <td>1076.079474</td>\n",
       "    </tr>\n",
       "    <tr>\n",
       "      <th>50%</th>\n",
       "      <td>1000.000000</td>\n",
       "      <td>1682.214574</td>\n",
       "      <td>1437.727217</td>\n",
       "      <td>1461.024823</td>\n",
       "      <td>1222.026823</td>\n",
       "      <td>1179.343034</td>\n",
       "      <td>1180.694618</td>\n",
       "    </tr>\n",
       "    <tr>\n",
       "      <th>75%</th>\n",
       "      <td>10000.000000</td>\n",
       "      <td>2358.711257</td>\n",
       "      <td>1874.382174</td>\n",
       "      <td>2033.389202</td>\n",
       "      <td>1522.044080</td>\n",
       "      <td>1863.977072</td>\n",
       "      <td>1341.160826</td>\n",
       "    </tr>\n",
       "    <tr>\n",
       "      <th>max</th>\n",
       "      <td>10000.000000</td>\n",
       "      <td>10000.000000</td>\n",
       "      <td>10000.000000</td>\n",
       "      <td>10000.000000</td>\n",
       "      <td>10000.000000</td>\n",
       "      <td>10000.000000</td>\n",
       "      <td>10000.000000</td>\n",
       "    </tr>\n",
       "  </tbody>\n",
       "</table>\n",
       "</div>"
      ],
      "text/plain": [
       "            Channel         Fresh          Milk       Grocery        Frozen  \\\n",
       "count    440.000000    440.000000    440.000000    440.000000    440.000000   \n",
       "mean    3904.545455   1962.796301   1703.557768   1771.036954   1450.699927   \n",
       "std     4212.464125   1014.962013    904.421042    921.871428    718.099730   \n",
       "min     1000.000000   1000.000000   1000.000000   1000.000000   1000.000000   \n",
       "25%     1000.000000   1250.764615   1181.120052   1208.564623   1106.095096   \n",
       "50%     1000.000000   1682.214574   1437.727217   1461.024823   1222.026823   \n",
       "75%    10000.000000   2358.711257   1874.382174   2033.389202   1522.044080   \n",
       "max    10000.000000  10000.000000  10000.000000  10000.000000  10000.000000   \n",
       "\n",
       "       Detergents_Paper    Delicassen  \n",
       "count        440.000000    440.000000  \n",
       "mean        1634.588444   1285.707845  \n",
       "std         1051.114296    529.431653  \n",
       "min         1000.000000   1000.000000  \n",
       "25%         1055.941358   1076.079474  \n",
       "50%         1179.343034   1180.694618  \n",
       "75%         1863.977072   1341.160826  \n",
       "max        10000.000000  10000.000000  "
      ]
     },
     "execution_count": 23,
     "metadata": {},
     "output_type": "execute_result"
    }
   ],
   "source": [
    "df2win.describe()     # no value removal yet normalized and winsorized "
   ]
  },
  {
   "cell_type": "code",
   "execution_count": 69,
   "metadata": {},
   "outputs": [
    {
     "data": {
      "image/png": "[encoded data removed]",
      "text/plain": [
       "<matplotlib.figure.Figure at 0x20060e2a208>"
      ]
     },
     "metadata": {},
     "output_type": "display_data"
    }
   ],
   "source": [
    "plt.scatter('Fresh','Milk',data=df2win)\n",
    "plt.show()"
   ]
  },
  {
   "cell_type": "code",
   "execution_count": 70,
   "metadata": {},
   "outputs": [
    {
     "data": {
      "image/png": "[encoded data removed]",
      "text/plain": [
       "<matplotlib.figure.Figure at 0x2005cef2588>"
      ]
     },
     "metadata": {},
     "output_type": "display_data"
    }
   ],
   "source": [
    "plt.scatter('Fresh','Grocery',data=df2win)\n",
    "plt.show()"
   ]
  },
  {
   "cell_type": "code",
   "execution_count": 417,
   "metadata": {},
   "outputs": [
    {
     "data": {
      "text/plain": [
       "<seaborn.axisgrid.PairGrid at 0x2006a911208>"
      ]
     },
     "execution_count": 417,
     "metadata": {},
     "output_type": "execute_result"
    },
    {
     "data": {
      "image/png": "[encoded data removed]",
      "text/plain": [
       "<matplotlib.figure.Figure at 0x2006c310d68>"
      ]
     },
     "metadata": {},
     "output_type": "display_data"
    }
   ],
   "source": [
    "sns.pairplot(df2win,diag_kind='hist')"
   ]
  },
  {
   "cell_type": "code",
   "execution_count": 75,
   "metadata": {
    "collapsed": true
   },
   "outputs": [],
   "source": [
    "# lets compare the two preprocessed datasets to get the accuracy of the model "
   ]
  },
  {
   "cell_type": "code",
   "execution_count": 248,
   "metadata": {
    "collapsed": true
   },
   "outputs": [],
   "source": [
    "raw_data['Region'].replace([1,2,3],[0,1,2],inplace=True)"
   ]
  },
  {
   "cell_type": "code",
   "execution_count": 249,
   "metadata": {
    "collapsed": true
   },
   "outputs": [],
   "source": [
    "x = df2win\n",
    "y = raw_data['Region']"
   ]
  },
  {
   "cell_type": "code",
   "execution_count": 184,
   "metadata": {
    "collapsed": true
   },
   "outputs": [],
   "source": [
    "x_train, x_test, y_train, y_test = train_test_split(x, y, test_size=0.2, train_size=0.8,random_state=42)"
   ]
  },
  {
   "cell_type": "code",
   "execution_count": 185,
   "metadata": {
    "collapsed": true
   },
   "outputs": [],
   "source": [
    "#knn "
   ]
  },
  {
   "cell_type": "code",
   "execution_count": 306,
   "metadata": {
    "collapsed": true
   },
   "outputs": [],
   "source": [
    "neigh = KNeighborsClassifier(n_neighbors=7)"
   ]
  },
  {
   "cell_type": "code",
   "execution_count": 307,
   "metadata": {},
   "outputs": [
    {
     "data": {
      "text/plain": [
       "KNeighborsClassifier(algorithm='auto', leaf_size=30, metric='minkowski',\n",
       "           metric_params=None, n_jobs=1, n_neighbors=7, p=2,\n",
       "           weights='uniform')"
      ]
     },
     "execution_count": 307,
     "metadata": {},
     "output_type": "execute_result"
    }
   ],
   "source": [
    "neigh.fit(x_train,y_train)"
   ]
  },
  {
   "cell_type": "code",
   "execution_count": 308,
   "metadata": {
    "collapsed": true
   },
   "outputs": [],
   "source": [
    "predd = neigh.predict(x_test)"
   ]
  },
  {
   "cell_type": "code",
   "execution_count": 309,
   "metadata": {},
   "outputs": [
    {
     "data": {
      "text/plain": [
       "0.77272727272727271"
      ]
     },
     "execution_count": 309,
     "metadata": {},
     "output_type": "execute_result"
    }
   ],
   "source": [
    "accuracy_score(y_test,predd)"
   ]
  },
  {
   "cell_type": "code",
   "execution_count": 310,
   "metadata": {},
   "outputs": [
    {
     "data": {
      "text/plain": [
       "array([[ 0,  0,  9],\n",
       "       [ 0,  0,  5],\n",
       "       [ 5,  1, 68]], dtype=int64)"
      ]
     },
     "execution_count": 310,
     "metadata": {},
     "output_type": "execute_result"
    }
   ],
   "source": [
    "confusion_matrix(y_test,predd)"
   ]
  },
  {
   "cell_type": "code",
   "execution_count": 284,
   "metadata": {
    "collapsed": true
   },
   "outputs": [],
   "source": [
    "# neural net "
   ]
  },
  {
   "cell_type": "code",
   "execution_count": 285,
   "metadata": {
    "collapsed": true
   },
   "outputs": [],
   "source": [
    "mlpn = MLPClassifier()"
   ]
  },
  {
   "cell_type": "code",
   "execution_count": 252,
   "metadata": {},
   "outputs": [
    {
     "data": {
      "text/plain": [
       "MLPClassifier(activation='relu', alpha=0.0001, batch_size='auto', beta_1=0.9,\n",
       "       beta_2=0.999, early_stopping=False, epsilon=1e-08,\n",
       "       hidden_layer_sizes=(100,), learning_rate='constant',\n",
       "       learning_rate_init=0.001, max_iter=200, momentum=0.9,\n",
       "       nesterovs_momentum=True, power_t=0.5, random_state=None,\n",
       "       shuffle=True, solver='adam', tol=0.0001, validation_fraction=0.1,\n",
       "       verbose=False, warm_start=False)"
      ]
     },
     "execution_count": 252,
     "metadata": {},
     "output_type": "execute_result"
    }
   ],
   "source": [
    "mlpn.fit(x_train,y_train)"
   ]
  },
  {
   "cell_type": "code",
   "execution_count": 257,
   "metadata": {
    "collapsed": true
   },
   "outputs": [],
   "source": [
    "predn = mlpn.predict(x_test)"
   ]
  },
  {
   "cell_type": "code",
   "execution_count": 258,
   "metadata": {},
   "outputs": [
    {
     "data": {
      "text/plain": [
       "0.71590909090909094"
      ]
     },
     "execution_count": 258,
     "metadata": {},
     "output_type": "execute_result"
    }
   ],
   "source": [
    "accuracy_score(y_test,predn)"
   ]
  },
  {
   "cell_type": "code",
   "execution_count": 259,
   "metadata": {},
   "outputs": [
    {
     "data": {
      "text/plain": [
       "array([[ 0,  0,  9],\n",
       "       [ 0,  0,  5],\n",
       "       [ 2,  9, 63]], dtype=int64)"
      ]
     },
     "execution_count": 259,
     "metadata": {},
     "output_type": "execute_result"
    }
   ],
   "source": [
    "confusion_matrix(y_test,predn)"
   ]
  },
  {
   "cell_type": "code",
   "execution_count": 260,
   "metadata": {},
   "outputs": [
    {
     "data": {
      "text/plain": [
       "0.65909090909090906"
      ]
     },
     "execution_count": 260,
     "metadata": {},
     "output_type": "execute_result"
    }
   ],
   "source": [
    "mean_squared_error(y_test,predn)"
   ]
  },
  {
   "cell_type": "code",
   "execution_count": 226,
   "metadata": {
    "collapsed": true
   },
   "outputs": [],
   "source": [
    "#svc"
   ]
  },
  {
   "cell_type": "code",
   "execution_count": 199,
   "metadata": {
    "collapsed": true
   },
   "outputs": [],
   "source": [
    "clfwin = SVC()"
   ]
  },
  {
   "cell_type": "code",
   "execution_count": 200,
   "metadata": {},
   "outputs": [
    {
     "data": {
      "text/plain": [
       "SVC(C=1.0, cache_size=200, class_weight=None, coef0=0.0,\n",
       "  decision_function_shape='ovr', degree=3, gamma='auto', kernel='rbf',\n",
       "  max_iter=-1, probability=False, random_state=None, shrinking=True,\n",
       "  tol=0.001, verbose=False)"
      ]
     },
     "execution_count": 200,
     "metadata": {},
     "output_type": "execute_result"
    }
   ],
   "source": [
    "clfwin.fit(x_train,y_train)"
   ]
  },
  {
   "cell_type": "code",
   "execution_count": 201,
   "metadata": {
    "collapsed": true
   },
   "outputs": [],
   "source": [
    "predc = clfwin.predict(x_test)"
   ]
  },
  {
   "cell_type": "code",
   "execution_count": 202,
   "metadata": {},
   "outputs": [
    {
     "data": {
      "text/plain": [
       "0.84090909090909094"
      ]
     },
     "execution_count": 202,
     "metadata": {},
     "output_type": "execute_result"
    }
   ],
   "source": [
    "accuracy_score(y_test,predc) #highest accuracy obtained for region classification"
   ]
  },
  {
   "cell_type": "code",
   "execution_count": 203,
   "metadata": {},
   "outputs": [
    {
     "data": {
      "text/plain": [
       "array([[ 0,  0,  9],\n",
       "       [ 0,  0,  5],\n",
       "       [ 0,  0, 74]], dtype=int64)"
      ]
     },
     "execution_count": 203,
     "metadata": {},
     "output_type": "execute_result"
    }
   ],
   "source": [
    "confusion_matrix(y_test,predc)"
   ]
  },
  {
   "cell_type": "code",
   "execution_count": 204,
   "metadata": {},
   "outputs": [
    {
     "data": {
      "text/plain": [
       "0.46590909090909088"
      ]
     },
     "execution_count": 204,
     "metadata": {},
     "output_type": "execute_result"
    }
   ],
   "source": [
    "mean_squared_error(y_test,predc)"
   ]
  },
  {
   "cell_type": "code",
   "execution_count": 151,
   "metadata": {
    "collapsed": true
   },
   "outputs": [],
   "source": [
    "# ------ checking with df1 win table -------"
   ]
  },
  {
   "cell_type": "code",
   "execution_count": 152,
   "metadata": {
    "collapsed": true
   },
   "outputs": [],
   "source": [
    "x1 = df1win\n",
    "y1 = df1y"
   ]
  },
  {
   "cell_type": "code",
   "execution_count": 173,
   "metadata": {
    "collapsed": true
   },
   "outputs": [],
   "source": [
    "x1_train, x1_test, y1_train, y1_test = train_test_split( x1, y1, test_size=0.3,random_state=42)"
   ]
  },
  {
   "cell_type": "code",
   "execution_count": 174,
   "metadata": {
    "collapsed": true
   },
   "outputs": [],
   "source": [
    "#knn "
   ]
  },
  {
   "cell_type": "code",
   "execution_count": 175,
   "metadata": {
    "collapsed": true
   },
   "outputs": [],
   "source": [
    "neighdf1 = KNeighborsClassifier()"
   ]
  },
  {
   "cell_type": "code",
   "execution_count": 176,
   "metadata": {},
   "outputs": [
    {
     "data": {
      "text/plain": [
       "KNeighborsClassifier(algorithm='auto', leaf_size=30, metric='minkowski',\n",
       "           metric_params=None, n_jobs=1, n_neighbors=5, p=2,\n",
       "           weights='uniform')"
      ]
     },
     "execution_count": 176,
     "metadata": {},
     "output_type": "execute_result"
    }
   ],
   "source": [
    "neighdf1.fit(x1_train,y1_train)"
   ]
  },
  {
   "cell_type": "code",
   "execution_count": 177,
   "metadata": {
    "collapsed": true
   },
   "outputs": [],
   "source": [
    "y1pred = neighdf1.predict(x1_test)"
   ]
  },
  {
   "cell_type": "code",
   "execution_count": 178,
   "metadata": {},
   "outputs": [
    {
     "data": {
      "text/plain": [
       "0.68000000000000005"
      ]
     },
     "execution_count": 178,
     "metadata": {},
     "output_type": "execute_result"
    }
   ],
   "source": [
    "accuracy_score(y1_test,y1pred)"
   ]
  },
  {
   "cell_type": "code",
   "execution_count": 179,
   "metadata": {
    "collapsed": true
   },
   "outputs": [],
   "source": [
    "#svc"
   ]
  },
  {
   "cell_type": "code",
   "execution_count": 180,
   "metadata": {
    "collapsed": true
   },
   "outputs": [],
   "source": [
    "clfdf1 = SVC()"
   ]
  },
  {
   "cell_type": "code",
   "execution_count": 181,
   "metadata": {},
   "outputs": [
    {
     "data": {
      "text/plain": [
       "SVC(C=1.0, cache_size=200, class_weight=None, coef0=0.0,\n",
       "  decision_function_shape='ovr', degree=3, gamma='auto', kernel='rbf',\n",
       "  max_iter=-1, probability=False, random_state=None, shrinking=True,\n",
       "  tol=0.001, verbose=False)"
      ]
     },
     "execution_count": 181,
     "metadata": {},
     "output_type": "execute_result"
    }
   ],
   "source": [
    "clfdf1.fit(x1_train,y1_train)"
   ]
  },
  {
   "cell_type": "code",
   "execution_count": 182,
   "metadata": {
    "collapsed": true
   },
   "outputs": [],
   "source": [
    "y1predc = clfdf1.predict(x1_test)"
   ]
  },
  {
   "cell_type": "code",
   "execution_count": 183,
   "metadata": {},
   "outputs": [
    {
     "data": {
      "text/plain": [
       "0.76000000000000001"
      ]
     },
     "execution_count": 183,
     "metadata": {},
     "output_type": "execute_result"
    }
   ],
   "source": [
    "accuracy_score(y1_test,y1predc)"
   ]
  },
  {
   "cell_type": "code",
   "execution_count": null,
   "metadata": {
    "collapsed": true
   },
   "outputs": [],
   "source": [
    "# so df2win is giving max accuracy obtained for the values instead of deleting values . normalizing is better "
   ]
  },
  {
   "cell_type": "code",
   "execution_count": 334,
   "metadata": {
    "collapsed": true
   },
   "outputs": [],
   "source": [
    "# ensemble methods "
   ]
  },
  {
   "cell_type": "code",
   "execution_count": 345,
   "metadata": {
    "collapsed": true
   },
   "outputs": [],
   "source": [
    "from sklearn.ensemble import GradientBoostingClassifier"
   ]
  },
  {
   "cell_type": "code",
   "execution_count": 346,
   "metadata": {
    "collapsed": true
   },
   "outputs": [],
   "source": [
    "ada = GradientBoostingClassifier()"
   ]
  },
  {
   "cell_type": "code",
   "execution_count": 347,
   "metadata": {},
   "outputs": [
    {
     "data": {
      "text/plain": [
       "GradientBoostingClassifier(criterion='friedman_mse', init=None,\n",
       "              learning_rate=0.1, loss='deviance', max_depth=3,\n",
       "              max_features=None, max_leaf_nodes=None,\n",
       "              min_impurity_decrease=0.0, min_impurity_split=None,\n",
       "              min_samples_leaf=1, min_samples_split=2,\n",
       "              min_weight_fraction_leaf=0.0, n_estimators=100,\n",
       "              presort='auto', random_state=None, subsample=1.0, verbose=0,\n",
       "              warm_start=False)"
      ]
     },
     "execution_count": 347,
     "metadata": {},
     "output_type": "execute_result"
    }
   ],
   "source": [
    "ada.fit(x_train,y_train)"
   ]
  },
  {
   "cell_type": "code",
   "execution_count": 348,
   "metadata": {
    "collapsed": true
   },
   "outputs": [],
   "source": [
    "enpredic = ada.predict(x_test)"
   ]
  },
  {
   "cell_type": "code",
   "execution_count": 349,
   "metadata": {},
   "outputs": [
    {
     "data": {
      "text/plain": [
       "0.80681818181818177"
      ]
     },
     "execution_count": 349,
     "metadata": {},
     "output_type": "execute_result"
    }
   ],
   "source": [
    "accuracy_score(y_test,enpredic)"
   ]
  },
  {
   "cell_type": "code",
   "execution_count": 381,
   "metadata": {},
   "outputs": [
    {
     "data": {
      "text/plain": [
       "<matplotlib.axes._subplots.AxesSubplot at 0x2006a2c9f98>"
      ]
     },
     "execution_count": 381,
     "metadata": {},
     "output_type": "execute_result"
    },
    {
     "data": {
      "image/png": "[encoded data removed]",
      "text/plain": [
       "<matplotlib.figure.Figure at 0x2006a2c1860>"
      ]
     },
     "metadata": {},
     "output_type": "display_data"
    }
   ],
   "source": [
    "df1win.boxplot()"
   ]
  },
  {
   "cell_type": "code",
   "execution_count": 382,
   "metadata": {},
   "outputs": [
    {
     "data": {
      "text/plain": [
       "<matplotlib.axes._subplots.AxesSubplot at 0x2006a3e6e48>"
      ]
     },
     "execution_count": 382,
     "metadata": {},
     "output_type": "execute_result"
    },
    {
     "data": {
      "image/png": "[encoded data removed]",
      "text/plain": [
       "<matplotlib.figure.Figure at 0x2006a19f390>"
      ]
     },
     "metadata": {},
     "output_type": "display_data"
    }
   ],
   "source": [
    "df2win.boxplot()"
   ]
  },
  {
   "cell_type": "code",
   "execution_count": 383,
   "metadata": {
    "collapsed": true
   },
   "outputs": [],
   "source": [
    "scalerdf = MinMaxScaler(feature_range=(0,1))"
   ]
  },
  {
   "cell_type": "code",
   "execution_count": 385,
   "metadata": {
    "collapsed": true
   },
   "outputs": [],
   "source": [
    "df10wind = scalerdf.fit_transform(df1win)"
   ]
  },
  {
   "cell_type": "code",
   "execution_count": 386,
   "metadata": {
    "collapsed": true
   },
   "outputs": [],
   "source": [
    "df10win =pd.DataFrame(data=df10wind,columns=df1.columns)"
   ]
  },
  {
   "cell_type": "code",
   "execution_count": 388,
   "metadata": {
    "collapsed": true
   },
   "outputs": [],
   "source": [
    "x10 = df10win\n",
    "y10 = df1y"
   ]
  },
  {
   "cell_type": "code",
   "execution_count": 390,
   "metadata": {
    "collapsed": true
   },
   "outputs": [],
   "source": [
    "x10_train, x10_test, y10_train, y10_test = train_test_split( x10, y10, test_size=0.3,random_state=42)"
   ]
  },
  {
   "cell_type": "code",
   "execution_count": 391,
   "metadata": {
    "collapsed": true
   },
   "outputs": [],
   "source": [
    "clfdf10 = SVC()\n",
    "clfdf10.fit(x10_train,y10_train)\n",
    "y10predc = clfdf1.predict(x10_test)"
   ]
  },
  {
   "cell_type": "code",
   "execution_count": 392,
   "metadata": {},
   "outputs": [
    {
     "data": {
      "text/plain": [
       "0.76000000000000001"
      ]
     },
     "execution_count": 392,
     "metadata": {},
     "output_type": "execute_result"
    }
   ],
   "source": [
    "accuracy_score(y10_test,y10predc)   # changing the range of the values doesnt improve the accuracy (tested with df1win[0-1])"
   ]
  },
  {
   "cell_type": "code",
   "execution_count": 393,
   "metadata": {
    "collapsed": true
   },
   "outputs": [],
   "source": [
    "from sklearn.preprocessing import KernelCenterer"
   ]
  },
  {
   "cell_type": "code",
   "execution_count": 394,
   "metadata": {
    "collapsed": true
   },
   "outputs": [],
   "source": [
    "kel = KernelCenterer()"
   ]
  },
  {
   "cell_type": "code",
   "execution_count": 397,
   "metadata": {
    "collapsed": true
   },
   "outputs": [],
   "source": [
    "k = kel.fit_transform(df10win)"
   ]
  },
  {
   "cell_type": "code",
   "execution_count": 398,
   "metadata": {
    "collapsed": true
   },
   "outputs": [],
   "source": [
    "k10 =pd.DataFrame(data=k,columns=df1.columns)"
   ]
  },
  {
   "cell_type": "code",
   "execution_count": 416,
   "metadata": {},
   "outputs": [
    {
     "data": {
      "image/png": "[encoded data removed]",
      "text/plain": [
       "<matplotlib.figure.Figure at 0x2006c306dd8>"
      ]
     },
     "metadata": {},
     "output_type": "display_data"
    }
   ],
   "source": [
    "k10.hist();"
   ]
  },
  {
   "cell_type": "code",
   "execution_count": 404,
   "metadata": {
    "collapsed": true
   },
   "outputs": [],
   "source": [
    "xk = k10\n",
    "yk = df1y\n",
    "xk_train, xk_test, yk_train, yk_test = train_test_split( xk, yk, test_size=0.3,random_state=42)\n",
    "clfdfk = SVC()\n",
    "clfdfk.fit(xk_train,yk_train)\n",
    "ykpredc = clfdfk.predict(xk_test)\n"
   ]
  },
  {
   "cell_type": "code",
   "execution_count": 406,
   "metadata": {},
   "outputs": [
    {
     "data": {
      "text/plain": [
       "0.76000000000000001"
      ]
     },
     "execution_count": 406,
     "metadata": {},
     "output_type": "execute_result"
    }
   ],
   "source": [
    "accuracy_score(yk_test,ykpredc)  # centering around the gaussian doesnt improve the accuracy ."
   ]
  },
  {
   "cell_type": "code",
   "execution_count": 407,
   "metadata": {
    "collapsed": true
   },
   "outputs": [],
   "source": [
    "# feature generation is not possible in the given dataset since all are numerical \n"
   ]
  },
  {
   "cell_type": "code",
   "execution_count": 1,
   "metadata": {
    "collapsed": true
   },
   "outputs": [],
   "source": [
    "#clustering algorithms "
   ]
  },
  {
   "cell_type": "code",
   "execution_count": 25,
   "metadata": {
    "collapsed": true
   },
   "outputs": [],
   "source": [
    "from sklearn.cluster import KMeans"
   ]
  },
  {
   "cell_type": "code",
   "execution_count": 45,
   "metadata": {
    "collapsed": true
   },
   "outputs": [],
   "source": [
    "from sklearn.decomposition import PCA"
   ]
  },
  {
   "cell_type": "code",
   "execution_count": 78,
   "metadata": {
    "collapsed": true
   },
   "outputs": [],
   "source": [
    "#dropped the channel column which has extreme values "
   ]
  },
  {
   "cell_type": "code",
   "execution_count": 269,
   "metadata": {
    "collapsed": true
   },
   "outputs": [],
   "source": [
    "x = df2win.iloc[:, [ 1, 2, 3, 4, 5, 6]].values"
   ]
  },
  {
   "cell_type": "code",
   "execution_count": 270,
   "metadata": {
    "collapsed": true
   },
   "outputs": [],
   "source": [
    "#visualizing the number of clusters needed "
   ]
  },
  {
   "cell_type": "code",
   "execution_count": 271,
   "metadata": {},
   "outputs": [
    {
     "data": {
      "image/png": "[encoded data removed]",
      "text/plain": [
       "<matplotlib.figure.Figure at 0x2bcb1667630>"
      ]
     },
     "metadata": {},
     "output_type": "display_data"
    }
   ],
   "source": [
    "wcss = []\n",
    "\n",
    "for i in range(1, 11):\n",
    "    kmeans = KMeans(n_clusters = i, init = 'k-means++', max_iter = 300, n_init = 10, random_state = 0)\n",
    "    kmeans.fit(x)\n",
    "    wcss.append(kmeans.inertia_)\n",
    "    \n",
    "#Plotting the results onto a line graph, allowing us to observe 'The elbow'\n",
    "plt.plot(range(1, 11), wcss)\n",
    "plt.title('The elbow method')\n",
    "plt.xlabel('Number of clusters')\n",
    "plt.ylabel('WCSS') #within cluster sum of squares\n",
    "plt.show()"
   ]
  },
  {
   "cell_type": "code",
   "execution_count": 278,
   "metadata": {
    "collapsed": true
   },
   "outputs": [],
   "source": [
    "kmeans = KMeans(n_clusters= 3)\n",
    "#to avoid overfitting of the dataset we are using the number 4 "
   ]
  },
  {
   "cell_type": "code",
   "execution_count": 279,
   "metadata": {
    "collapsed": true
   },
   "outputs": [],
   "source": [
    "y_kmeans = kmeans.fit_predict(x)"
   ]
  },
  {
   "cell_type": "code",
   "execution_count": 280,
   "metadata": {},
   "outputs": [
    {
     "name": "stdout",
     "output_type": "stream",
     "text": [
      "Accuracy is  59.5454545455\n"
     ]
    }
   ],
   "source": [
    " print (\"Accuracy is \", accuracy_score(y,y_kmeans)*100) # checking the accuracy of the model "
   ]
  },
  {
   "cell_type": "code",
   "execution_count": 1,
   "metadata": {},
   "outputs": [
    {
     "ename": "NameError",
     "evalue": "name 'x' is not defined",
     "traceback": [
      "\u001b[1;31m---------------------------------------------------------------------------\u001b[0m",
      "\u001b[1;31mNameError\u001b[0m                                 Traceback (most recent call last)",
      "\u001b[1;32m<ipython-input-1-401b30e3b8b5>\u001b[0m in \u001b[0;36m<module>\u001b[1;34m()\u001b[0m\n\u001b[1;32m----> 1\u001b[1;33m \u001b[0mx\u001b[0m\u001b[1;33m\u001b[0m\u001b[0m\n\u001b[0m",
      "\u001b[1;31mNameError\u001b[0m: name 'x' is not defined"
     ],
     "output_type": "error"
    }
   ],
   "source": [
    "x"
   ]
  },
  {
   "cell_type": "code",
   "execution_count": 276,
   "metadata": {
    "collapsed": true
   },
   "outputs": [],
   "source": [
    "# visualizing the clusters "
   ]
  },
  {
   "cell_type": "code",
   "execution_count": 277,
   "metadata": {},
   "outputs": [
    {
     "data": {
      "text/plain": [
       "<matplotlib.legend.Legend at 0x2bcae2de780>"
      ]
     },
     "execution_count": 277,
     "metadata": {},
     "output_type": "execute_result"
    },
    {
     "data": {
      "image/png": "[encoded data removed]",
      "text/plain": [
       "<matplotlib.figure.Figure at 0x2bcb1662dd8>"
      ]
     },
     "metadata": {},
     "output_type": "display_data"
    }
   ],
   "source": [
    "plt.scatter(x[y_kmeans == 0, 0], x[y_kmeans == 0, 1], s = 100, c = 'cyan', label = 'Region 1')\n",
    "plt.scatter(x[y_kmeans == 1, 0], x[y_kmeans == 1, 1], s = 100, c = 'blue', label = 'Region 2 ')\n",
    "plt.scatter(x[y_kmeans == 2, 0], x[y_kmeans == 2, 1], s = 100, c = 'green', label = 'Region 3')\n",
    "plt.scatter(x[y_kmeans == 3, 0], x[y_kmeans == 3, 1], s = 100, c = 'orange', label = 'Region 4')\n",
    "\n",
    "\n",
    "#Plotting the centroids of the clusters\n",
    "plt.scatter(kmeans.cluster_centers_[:, 0], kmeans.cluster_centers_[:,1], s = 100, c = 'red', label = 'Centroids')\n",
    "plt.title(\"KMeans cluster graph\")\n",
    "plt.legend()"
   ]
  },
  {
   "cell_type": "code",
   "execution_count": 250,
   "metadata": {
    "collapsed": true
   },
   "outputs": [],
   "source": []
  },
  {
   "cell_type": "code",
   "execution_count": 266,
   "metadata": {
    "collapsed": true
   },
   "outputs": [],
   "source": []
  },
  {
   "cell_type": "code",
   "execution_count": null,
   "metadata": {
    "collapsed": true
   },
   "outputs": [],
   "source": []
  },
  {
   "cell_type": "code",
   "execution_count": null,
   "metadata": {
    "collapsed": true
   },
   "outputs": [],
   "source": []
  },
  {
   "cell_type": "code",
   "execution_count": null,
   "metadata": {
    "collapsed": true
   },
   "outputs": [],
   "source": []
  },
  {
   "cell_type": "code",
   "execution_count": null,
   "metadata": {
    "collapsed": true
   },
   "outputs": [],
   "source": []
  },
  {
   "cell_type": "code",
   "execution_count": null,
   "metadata": {
    "collapsed": true
   },
   "outputs": [],
   "source": []
  },
  {
   "cell_type": "code",
   "execution_count": null,
   "metadata": {
    "collapsed": true
   },
   "outputs": [],
   "source": []
  },
  {
   "cell_type": "code",
   "execution_count": null,
   "metadata": {
    "collapsed": true
   },
   "outputs": [],
   "source": []
  },
  {
   "cell_type": "code",
   "execution_count": null,
   "metadata": {
    "collapsed": true
   },
   "outputs": [],
   "source": []
  },
  {
   "cell_type": "code",
   "execution_count": null,
   "metadata": {
    "collapsed": true
   },
   "outputs": [],
   "source": []
  },
  {
   "cell_type": "code",
   "execution_count": null,
   "metadata": {
    "collapsed": true
   },
   "outputs": [],
   "source": []
  },
  {
   "cell_type": "code",
   "execution_count": null,
   "metadata": {
    "collapsed": true
   },
   "outputs": [],
   "source": []
  },
  {
   "cell_type": "code",
   "execution_count": null,
   "metadata": {
    "collapsed": true
   },
   "outputs": [],
   "source": []
  },
  {
   "cell_type": "code",
   "execution_count": null,
   "metadata": {
    "collapsed": true
   },
   "outputs": [],
   "source": []
  }
 ],
 "metadata": {
  "kernelspec": {
   "display_name": "Python 3",
   "language": "python",
   "name": "python3"
  },
  "language_info": {
   "codemirror_mode": {
    "name": "ipython",
    "version": 3
   },
   "file_extension": ".py",
   "mimetype": "text/x-python",
   "name": "python",
   "nbconvert_exporter": "python",
   "pygments_lexer": "ipython3",
   "version": "3.6.3"
  }
 },
 "nbformat": 4,
 "nbformat_minor": 2
}
